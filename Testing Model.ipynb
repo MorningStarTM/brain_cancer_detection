{
 "cells": [
  {
   "cell_type": "code",
   "execution_count": 4,
   "id": "2ce2a3ca",
   "metadata": {},
   "outputs": [],
   "source": [
    "#importing libraries\n",
    "import os\n",
    "import cv2\n",
    "import numpy as np\n",
    "import matplotlib.pyplot as plt\n",
    "import tensorflow as tf\n",
    "from tensorflow.keras.layers import*\n",
    "from tensorflow.keras.models import Model, load_model\n",
    "from tensorflow.keras.callbacks import*\n",
    "from sklearn.model_selection import train_test_split"
   ]
  },
  {
   "cell_type": "code",
   "execution_count": 2,
   "id": "ba07714a",
   "metadata": {},
   "outputs": [],
   "source": [
    "#parameters\n",
    "H, W = 224, 224\n",
    "channel = 3\n",
    "num_class = 3\n",
    "batch_size = 64\n",
    "class_names = [\"glioma\", \"meningioma\", \"notumor\", \"pituitary\"]"
   ]
  },
  {
   "cell_type": "code",
   "execution_count": 3,
   "id": "ea226d27",
   "metadata": {},
   "outputs": [],
   "source": [
    "def process_image(path):\n",
    "    #read image\n",
    "    image = cv2.imread(path, cv2.IMREAD_COLOR)\n",
    "    #resize the image\n",
    "    image = cv2.resize(image, [224, 224])\n",
    "    #scale the image\n",
    "    image = image / 255.0\n",
    "    #change the data type of image\n",
    "    image = image.astype(np.float32)\n",
    "    \n",
    "    return image"
   ]
  },
  {
   "cell_type": "code",
   "execution_count": 15,
   "id": "f84d3282",
   "metadata": {},
   "outputs": [],
   "source": [
    "path = \"C:\\\\Users\\\\Dark-Devil\\\\Downloads\\\\Copy of Tr-pi_0022.jpg\"\n",
    "image = process_image(path)"
   ]
  },
  {
   "cell_type": "code",
   "execution_count": 16,
   "id": "a2f70f02",
   "metadata": {},
   "outputs": [
    {
     "data": {
      "text/plain": [
       "(1, 224, 224, 3)"
      ]
     },
     "execution_count": 16,
     "metadata": {},
     "output_type": "execute_result"
    }
   ],
   "source": [
    "image = image.reshape(1, 224, 224, 3)\n",
    "image.shape"
   ]
  },
  {
   "cell_type": "code",
   "execution_count": 5,
   "id": "36c52b40",
   "metadata": {},
   "outputs": [],
   "source": [
    "model = load_model(\"./assets/brain_tumor_model_1.h5\")"
   ]
  },
  {
   "cell_type": "code",
   "execution_count": 17,
   "id": "d83170fc",
   "metadata": {},
   "outputs": [
    {
     "name": "stdout",
     "output_type": "stream",
     "text": [
      "1/1 [==============================] - 0s 28ms/step\n"
     ]
    }
   ],
   "source": [
    "result = model.predict(image)"
   ]
  },
  {
   "cell_type": "code",
   "execution_count": 19,
   "id": "c13fc60f",
   "metadata": {},
   "outputs": [
    {
     "data": {
      "text/plain": [
       "'pituitary'"
      ]
     },
     "execution_count": 19,
     "metadata": {},
     "output_type": "execute_result"
    }
   ],
   "source": [
    "final = np.argmax(result)\n",
    "class_names[final]"
   ]
  },
  {
   "cell_type": "code",
   "execution_count": null,
   "id": "9b3be7ca",
   "metadata": {},
   "outputs": [],
   "source": []
  }
 ],
 "metadata": {
  "kernelspec": {
   "display_name": "Python 3 (ipykernel)",
   "language": "python",
   "name": "python3"
  },
  "language_info": {
   "codemirror_mode": {
    "name": "ipython",
    "version": 3
   },
   "file_extension": ".py",
   "mimetype": "text/x-python",
   "name": "python",
   "nbconvert_exporter": "python",
   "pygments_lexer": "ipython3",
   "version": "3.9.13"
  }
 },
 "nbformat": 4,
 "nbformat_minor": 5
}
