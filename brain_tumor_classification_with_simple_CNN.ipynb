{
  "nbformat": 4,
  "nbformat_minor": 0,
  "metadata": {
    "colab": {
      "provenance": [],
      "mount_file_id": "1vUTSTZWiIb9v8HLE95q5T5xkAh2L6TfX",
      "authorship_tag": "ABX9TyMPXTndepzxaGyt0qXWUCFv",
      "include_colab_link": true
    },
    "kernelspec": {
      "name": "python3",
      "display_name": "Python 3"
    },
    "language_info": {
      "name": "python"
    },
    "accelerator": "GPU",
    "gpuClass": "standard"
  },
  "cells": [
    {
      "cell_type": "markdown",
      "metadata": {
        "id": "view-in-github",
        "colab_type": "text"
      },
      "source": [
        "<a href=\"https://colab.research.google.com/github/MorningStarTM/brain_cancer_detection/blob/main/brain_tumor_classification_with_simple_CNN.ipynb\" target=\"_parent\"><img src=\"https://colab.research.google.com/assets/colab-badge.svg\" alt=\"Open In Colab\"/></a>"
      ]
    },
    {
      "cell_type": "code",
      "execution_count": 179,
      "metadata": {
        "id": "w5sauBmIFv7L"
      },
      "outputs": [],
      "source": [
        "#importing libraries\n",
        "import os\n",
        "import cv2\n",
        "import itertools\n",
        "import numpy as np\n",
        "import matplotlib.pyplot as plt\n",
        "import tensorflow as tf\n",
        "from sklearn.utils import shuffle\n",
        "from glob import glob\n",
        "from tensorflow.keras.layers import*\n",
        "from tensorflow.keras.models import Model\n",
        "from tensorflow.keras.callbacks import*\n",
        "from sklearn.model_selection import train_test_split\n",
        "from sklearn import metrics\n",
        "from sklearn.metrics import confusion_matrix"
      ]
    },
    {
      "cell_type": "code",
      "source": [
        "#parameters\n",
        "H, W = 224, 224\n",
        "channel = 3\n",
        "num_class = 3\n",
        "batch_size = 64\n",
        "class_names = [\"glioma\", \"meningioma\", \"notumor\", \"pituitary\"]"
      ],
      "metadata": {
        "id": "mxVTi4bsTKSi"
      },
      "execution_count": 161,
      "outputs": []
    },
    {
      "cell_type": "markdown",
      "source": [
        "#Data pipeline"
      ],
      "metadata": {
        "id": "FMWC86K8KQRZ"
      }
    },
    {
      "cell_type": "code",
      "source": [
        "def load_data(path, split=0.1):\n",
        "    images = shuffle(glob(os.path.join(path, \"*\", \"*.jpg\")))\n",
        "    \n",
        "    split_size = int(len(images) * split)\n",
        "    #split the data\n",
        "    train_data, valid_data = train_test_split(images, test_size=split_size, random_state=42)\n",
        "    train_data, test_data = train_test_split(train_data, test_size=split_size, random_state=42)\n",
        "\n",
        "    return train_data, valid_data, test_data "
      ],
      "metadata": {
        "id": "pVVkzRR4J1yT"
      },
      "execution_count": 162,
      "outputs": []
    },
    {
      "cell_type": "code",
      "source": [
        "def process_image(path):\n",
        "    #decode the path\n",
        "    path = path.decode()\n",
        "    #read image\n",
        "    image = cv2.imread(path, cv2.IMREAD_COLOR)\n",
        "    #resize the image\n",
        "    image = cv2.resize(image, [224, 224])\n",
        "    #scale the image\n",
        "    image = image / 255.0\n",
        "    #change the data type of image\n",
        "    image = image.astype(np.float32)\n",
        "\n",
        "    #labeling the image\n",
        "    class_name = path.split(\"/\")[-2]\n",
        "    class_idx = class_names.index(class_name)\n",
        "    class_idx = np.array(class_idx, dtype=np.int32)\n",
        "\n",
        "    return image, class_idx"
      ],
      "metadata": {
        "id": "XAdep5H7sX1-"
      },
      "execution_count": 163,
      "outputs": []
    },
    {
      "cell_type": "code",
      "source": [
        "def parse(path):\n",
        "    image, labels = tf.numpy_function(process_image, [path], (tf.float32, tf.int32))\n",
        "    labels = tf.one_hot(labels, 4)\n",
        "    image.set_shape([224, 224, 3])\n",
        "    labels.set_shape(4)\n",
        "  \n",
        "    return image, labels"
      ],
      "metadata": {
        "id": "99Y8if4B4cTd"
      },
      "execution_count": 164,
      "outputs": []
    },
    {
      "cell_type": "code",
      "source": [
        "#tensorflow dataset\n",
        "def tf_dataset(images, batch=8):\n",
        "    dataset = tf.data.Dataset.from_tensor_slices((images))\n",
        "    dataset = dataset.map(parse)\n",
        "    dataset = dataset.batch(batch_size)\n",
        "    dataset = dataset.prefetch(8)\n",
        "    return dataset"
      ],
      "metadata": {
        "id": "BPjBNHHgrpF1"
      },
      "execution_count": 165,
      "outputs": []
    },
    {
      "cell_type": "markdown",
      "source": [
        "#Model Creation"
      ],
      "metadata": {
        "id": "DDocIYfs7KhX"
      }
    },
    {
      "cell_type": "code",
      "source": [
        "inputs = Input(shape=(W, H, channel))"
      ],
      "metadata": {
        "id": "CYMvtm1X7wdn"
      },
      "execution_count": 166,
      "outputs": []
    },
    {
      "cell_type": "code",
      "source": [
        "conv_x = Conv2D(16, (3,3), activation='relu', padding='same', strides=(1,1), kernel_initializer='he_normal')(inputs)\n",
        "conv_x = MaxPooling2D((2,2), strides=(2,2))(conv_x)\n",
        "conv_x = Conv2D(16, (3,3), activation='relu', padding='same', strides=(1,1), kernel_initializer='he_normal')(conv_x)\n",
        "\n",
        "conv_x = Conv2D(32, (3,3), activation='relu', padding='same', strides=(1,1), kernel_initializer='he_normal')(conv_x)\n",
        "conv_x = MaxPooling2D((2,2), strides=(1,1))(conv_x)\n",
        "\n",
        "conv_x = Conv2D(64, (3,3), activation='relu', padding='same', strides=(1,1), kernel_initializer='he_normal')(conv_x)\n",
        "conv_x = MaxPooling2D((2,2), strides=(2,2))(conv_x)\n",
        "\n",
        "conv_x = Conv2D(128, (3,3), activation='relu', padding='same', strides=(1,1), kernel_initializer='he_normal')(conv_x)\n",
        "conv_x = MaxPooling2D((2,2), strides=(2,2))(conv_x)\n",
        "\n",
        "conv_x = Conv2D(256, (3,3), activation='relu', padding='same', strides=(1,1), kernel_initializer='he_normal')(conv_x)\n",
        "conv_x = MaxPooling2D((2,2), strides=(2,2))(conv_x)\n",
        "conv_x = Conv2D(256, (3,3), activation='relu', padding='same', strides=(1,1), kernel_initializer='he_normal')(conv_x)\n",
        "\n",
        "flatten = Flatten()(conv_x)\n",
        "conv_x = Dense(64, activation='relu')(flatten)\n",
        "\n",
        "outputs = Dense(4, activation='softmax')(conv_x)"
      ],
      "metadata": {
        "id": "simoV1E29CsQ"
      },
      "execution_count": 167,
      "outputs": []
    },
    {
      "cell_type": "code",
      "source": [
        "model = Model(inputs=inputs, outputs=outputs)"
      ],
      "metadata": {
        "id": "DKK8tJoF7zes"
      },
      "execution_count": 168,
      "outputs": []
    },
    {
      "cell_type": "code",
      "source": [
        "model.summary()"
      ],
      "metadata": {
        "colab": {
          "base_uri": "https://localhost:8080/"
        },
        "id": "skkhfTnYE0VI",
        "outputId": "488e1051-c463-4f91-bddc-00a6de498a1d"
      },
      "execution_count": 169,
      "outputs": [
        {
          "output_type": "stream",
          "name": "stdout",
          "text": [
            "Model: \"model_15\"\n",
            "_________________________________________________________________\n",
            " Layer (type)                Output Shape              Param #   \n",
            "=================================================================\n",
            " input_14 (InputLayer)       [(None, 224, 224, 3)]     0         \n",
            "                                                                 \n",
            " conv2d_96 (Conv2D)          (None, 224, 224, 16)      448       \n",
            "                                                                 \n",
            " max_pooling2d_68 (MaxPoolin  (None, 112, 112, 16)     0         \n",
            " g2D)                                                            \n",
            "                                                                 \n",
            " conv2d_97 (Conv2D)          (None, 112, 112, 16)      2320      \n",
            "                                                                 \n",
            " conv2d_98 (Conv2D)          (None, 112, 112, 32)      4640      \n",
            "                                                                 \n",
            " max_pooling2d_69 (MaxPoolin  (None, 111, 111, 32)     0         \n",
            " g2D)                                                            \n",
            "                                                                 \n",
            " conv2d_99 (Conv2D)          (None, 111, 111, 64)      18496     \n",
            "                                                                 \n",
            " max_pooling2d_70 (MaxPoolin  (None, 55, 55, 64)       0         \n",
            " g2D)                                                            \n",
            "                                                                 \n",
            " conv2d_100 (Conv2D)         (None, 55, 55, 128)       73856     \n",
            "                                                                 \n",
            " max_pooling2d_71 (MaxPoolin  (None, 27, 27, 128)      0         \n",
            " g2D)                                                            \n",
            "                                                                 \n",
            " conv2d_101 (Conv2D)         (None, 27, 27, 256)       295168    \n",
            "                                                                 \n",
            " max_pooling2d_72 (MaxPoolin  (None, 13, 13, 256)      0         \n",
            " g2D)                                                            \n",
            "                                                                 \n",
            " conv2d_102 (Conv2D)         (None, 13, 13, 256)       590080    \n",
            "                                                                 \n",
            " flatten_16 (Flatten)        (None, 43264)             0         \n",
            "                                                                 \n",
            " dense_31 (Dense)            (None, 64)                2768960   \n",
            "                                                                 \n",
            " dense_32 (Dense)            (None, 4)                 260       \n",
            "                                                                 \n",
            "=================================================================\n",
            "Total params: 3,754,228\n",
            "Trainable params: 3,754,228\n",
            "Non-trainable params: 0\n",
            "_________________________________________________________________\n"
          ]
        }
      ]
    },
    {
      "cell_type": "code",
      "source": [
        "model_path = \"/content/drive/MyDrive/CNN_Models/brain_tumor_model_1.h5\"\n",
        "csv_path = \"/content/drive/MyDrive/Model CSV/brain_tumor_1.csv\""
      ],
      "metadata": {
        "id": "r2DNZYEsNYcA"
      },
      "execution_count": 170,
      "outputs": []
    },
    {
      "cell_type": "code",
      "source": [
        "callbacks = [\n",
        "    ModelCheckpoint(model_path, verbose=1, save_best_only=True),\n",
        "    CSVLogger(csv_path),\n",
        "    ReduceLROnPlateau(monitor='val_accuracy', factor=0.1, patience=5, min_lr=1e-7, verbose=1)\n",
        "]"
      ],
      "metadata": {
        "id": "cGvILk9jNDfi"
      },
      "execution_count": 171,
      "outputs": []
    },
    {
      "cell_type": "code",
      "source": [
        "model.compile(optimizer='adam', loss='categorical_crossentropy', metrics=['accuracy'])"
      ],
      "metadata": {
        "id": "dWHGlL_QO8Th"
      },
      "execution_count": 172,
      "outputs": []
    },
    {
      "cell_type": "code",
      "source": [
        "path = \"/content/drive/MyDrive/DataSet/brain_cancer/Training\""
      ],
      "metadata": {
        "id": "Rshpukt5K_tj"
      },
      "execution_count": 173,
      "outputs": []
    },
    {
      "cell_type": "code",
      "source": [
        "x_train, x_valid, x_test = load_data(path)\n",
        "print(f\"Train:{len(x_train)} - Test:{len(x_test)} - Valid:{len(x_valid)}\")"
      ],
      "metadata": {
        "colab": {
          "base_uri": "https://localhost:8080/"
        },
        "id": "unvFJ-M-K7MF",
        "outputId": "70fc09bd-40b0-438c-8633-af979643248d"
      },
      "execution_count": 174,
      "outputs": [
        {
          "output_type": "stream",
          "name": "stdout",
          "text": [
            "Train:4586 - Test:573 - Valid:573\n"
          ]
        }
      ]
    },
    {
      "cell_type": "code",
      "source": [
        "train_df = tf_dataset(x_train)\n",
        "test_df = tf_dataset(x_test)\n",
        "valid_df = tf_dataset(x_valid)"
      ],
      "metadata": {
        "id": "K5qQ3jqjm7c1"
      },
      "execution_count": 175,
      "outputs": []
    },
    {
      "cell_type": "code",
      "source": [
        "model.fit(\n",
        "    train_df,\n",
        "    validation_data=valid_df,\n",
        "    epochs=20,\n",
        "    batch_size=64,\n",
        "    callbacks=callbacks\n",
        ")"
      ],
      "metadata": {
        "colab": {
          "base_uri": "https://localhost:8080/"
        },
        "id": "Mmm3IxqXOr0a",
        "outputId": "90702ba8-65e9-44a7-b76e-7a4d94487ed9"
      },
      "execution_count": 176,
      "outputs": [
        {
          "output_type": "stream",
          "name": "stdout",
          "text": [
            "Epoch 1/20\n",
            "72/72 [==============================] - ETA: 0s - loss: 1.2355 - accuracy: 0.5645\n",
            "Epoch 1: val_loss improved from inf to 0.59708, saving model to /content/drive/MyDrive/CNN_Models/brain_tumor_model_1.h5\n",
            "72/72 [==============================] - 34s 446ms/step - loss: 1.2355 - accuracy: 0.5645 - val_loss: 0.5971 - val_accuracy: 0.7766 - lr: 0.0010\n",
            "Epoch 2/20\n",
            "72/72 [==============================] - ETA: 0s - loss: 0.5431 - accuracy: 0.7924\n",
            "Epoch 2: val_loss improved from 0.59708 to 0.45722, saving model to /content/drive/MyDrive/CNN_Models/brain_tumor_model_1.h5\n",
            "72/72 [==============================] - 31s 433ms/step - loss: 0.5431 - accuracy: 0.7924 - val_loss: 0.4572 - val_accuracy: 0.8272 - lr: 0.0010\n",
            "Epoch 3/20\n",
            "72/72 [==============================] - ETA: 0s - loss: 0.3687 - accuracy: 0.8663\n",
            "Epoch 3: val_loss improved from 0.45722 to 0.36459, saving model to /content/drive/MyDrive/CNN_Models/brain_tumor_model_1.h5\n",
            "72/72 [==============================] - 34s 471ms/step - loss: 0.3687 - accuracy: 0.8663 - val_loss: 0.3646 - val_accuracy: 0.8761 - lr: 0.0010\n",
            "Epoch 4/20\n",
            "72/72 [==============================] - ETA: 0s - loss: 0.3000 - accuracy: 0.8897\n",
            "Epoch 4: val_loss improved from 0.36459 to 0.31005, saving model to /content/drive/MyDrive/CNN_Models/brain_tumor_model_1.h5\n",
            "72/72 [==============================] - 30s 421ms/step - loss: 0.3000 - accuracy: 0.8897 - val_loss: 0.3101 - val_accuracy: 0.8831 - lr: 0.0010\n",
            "Epoch 5/20\n",
            "72/72 [==============================] - ETA: 0s - loss: 0.2223 - accuracy: 0.9180\n",
            "Epoch 5: val_loss improved from 0.31005 to 0.26288, saving model to /content/drive/MyDrive/CNN_Models/brain_tumor_model_1.h5\n",
            "72/72 [==============================] - 29s 408ms/step - loss: 0.2223 - accuracy: 0.9180 - val_loss: 0.2629 - val_accuracy: 0.9005 - lr: 0.0010\n",
            "Epoch 6/20\n",
            "72/72 [==============================] - ETA: 0s - loss: 0.1817 - accuracy: 0.9315\n",
            "Epoch 6: val_loss did not improve from 0.26288\n",
            "72/72 [==============================] - 29s 394ms/step - loss: 0.1817 - accuracy: 0.9315 - val_loss: 0.3069 - val_accuracy: 0.8866 - lr: 0.0010\n",
            "Epoch 7/20\n",
            "72/72 [==============================] - ETA: 0s - loss: 0.1412 - accuracy: 0.9522\n",
            "Epoch 7: val_loss did not improve from 0.26288\n",
            "72/72 [==============================] - 29s 404ms/step - loss: 0.1412 - accuracy: 0.9522 - val_loss: 0.2693 - val_accuracy: 0.9058 - lr: 0.0010\n",
            "Epoch 8/20\n",
            "72/72 [==============================] - ETA: 0s - loss: 0.1265 - accuracy: 0.9522\n",
            "Epoch 8: val_loss did not improve from 0.26288\n",
            "72/72 [==============================] - 29s 404ms/step - loss: 0.1265 - accuracy: 0.9522 - val_loss: 0.2678 - val_accuracy: 0.9127 - lr: 0.0010\n",
            "Epoch 9/20\n",
            "72/72 [==============================] - ETA: 0s - loss: 0.0902 - accuracy: 0.9723\n",
            "Epoch 9: val_loss did not improve from 0.26288\n",
            "72/72 [==============================] - 28s 391ms/step - loss: 0.0902 - accuracy: 0.9723 - val_loss: 0.3644 - val_accuracy: 0.8848 - lr: 0.0010\n",
            "Epoch 10/20\n",
            "72/72 [==============================] - ETA: 0s - loss: 0.0657 - accuracy: 0.9791\n",
            "Epoch 10: val_loss improved from 0.26288 to 0.21062, saving model to /content/drive/MyDrive/CNN_Models/brain_tumor_model_1.h5\n",
            "72/72 [==============================] - 29s 402ms/step - loss: 0.0657 - accuracy: 0.9791 - val_loss: 0.2106 - val_accuracy: 0.9232 - lr: 0.0010\n",
            "Epoch 11/20\n",
            "72/72 [==============================] - ETA: 0s - loss: 0.0441 - accuracy: 0.9847\n",
            "Epoch 11: val_loss did not improve from 0.21062\n",
            "72/72 [==============================] - 29s 395ms/step - loss: 0.0441 - accuracy: 0.9847 - val_loss: 0.2883 - val_accuracy: 0.9250 - lr: 0.0010\n",
            "Epoch 12/20\n",
            "72/72 [==============================] - ETA: 0s - loss: 0.0516 - accuracy: 0.9795\n",
            "Epoch 12: val_loss did not improve from 0.21062\n",
            "72/72 [==============================] - 28s 392ms/step - loss: 0.0516 - accuracy: 0.9795 - val_loss: 0.3235 - val_accuracy: 0.9215 - lr: 0.0010\n",
            "Epoch 13/20\n",
            "72/72 [==============================] - ETA: 0s - loss: 0.0488 - accuracy: 0.9834\n",
            "Epoch 13: val_loss did not improve from 0.21062\n",
            "72/72 [==============================] - 29s 406ms/step - loss: 0.0488 - accuracy: 0.9834 - val_loss: 0.4114 - val_accuracy: 0.9127 - lr: 0.0010\n",
            "Epoch 14/20\n",
            "72/72 [==============================] - ETA: 0s - loss: 0.0332 - accuracy: 0.9889\n",
            "Epoch 14: val_loss did not improve from 0.21062\n",
            "72/72 [==============================] - 29s 395ms/step - loss: 0.0332 - accuracy: 0.9889 - val_loss: 0.4593 - val_accuracy: 0.9092 - lr: 0.0010\n",
            "Epoch 15/20\n",
            "72/72 [==============================] - ETA: 0s - loss: 0.0232 - accuracy: 0.9913\n",
            "Epoch 15: val_loss did not improve from 0.21062\n",
            "72/72 [==============================] - 29s 404ms/step - loss: 0.0232 - accuracy: 0.9913 - val_loss: 0.3686 - val_accuracy: 0.9284 - lr: 0.0010\n",
            "Epoch 16/20\n",
            "72/72 [==============================] - ETA: 0s - loss: 0.0249 - accuracy: 0.9922\n",
            "Epoch 16: val_loss did not improve from 0.21062\n",
            "72/72 [==============================] - 28s 387ms/step - loss: 0.0249 - accuracy: 0.9922 - val_loss: 0.3161 - val_accuracy: 0.9215 - lr: 0.0010\n",
            "Epoch 17/20\n",
            "72/72 [==============================] - ETA: 0s - loss: 0.0124 - accuracy: 0.9961\n",
            "Epoch 17: val_loss did not improve from 0.21062\n",
            "72/72 [==============================] - 28s 386ms/step - loss: 0.0124 - accuracy: 0.9961 - val_loss: 0.3616 - val_accuracy: 0.9389 - lr: 0.0010\n",
            "Epoch 18/20\n",
            "72/72 [==============================] - ETA: 0s - loss: 0.0039 - accuracy: 0.9987\n",
            "Epoch 18: val_loss did not improve from 0.21062\n",
            "72/72 [==============================] - 28s 385ms/step - loss: 0.0039 - accuracy: 0.9987 - val_loss: 0.3815 - val_accuracy: 0.9389 - lr: 0.0010\n",
            "Epoch 19/20\n",
            "72/72 [==============================] - ETA: 0s - loss: 0.0032 - accuracy: 0.9987\n",
            "Epoch 19: val_loss did not improve from 0.21062\n",
            "72/72 [==============================] - 29s 394ms/step - loss: 0.0032 - accuracy: 0.9987 - val_loss: 0.3960 - val_accuracy: 0.9232 - lr: 0.0010\n",
            "Epoch 20/20\n",
            "72/72 [==============================] - ETA: 0s - loss: 0.0016 - accuracy: 0.9996\n",
            "Epoch 20: val_loss did not improve from 0.21062\n",
            "72/72 [==============================] - 28s 384ms/step - loss: 0.0016 - accuracy: 0.9996 - val_loss: 0.4751 - val_accuracy: 0.9284 - lr: 0.0010\n"
          ]
        },
        {
          "output_type": "execute_result",
          "data": {
            "text/plain": [
              "<keras.callbacks.History at 0x7f6422219e20>"
            ]
          },
          "metadata": {},
          "execution_count": 176
        }
      ]
    },
    {
      "cell_type": "code",
      "source": [
        "model.evaluate(test_df)"
      ],
      "metadata": {
        "id": "EYBg1rTXO4mQ",
        "colab": {
          "base_uri": "https://localhost:8080/"
        },
        "outputId": "9528ac4c-658c-41db-b9fb-80c9b2e4287a"
      },
      "execution_count": 177,
      "outputs": [
        {
          "output_type": "stream",
          "name": "stdout",
          "text": [
            "9/9 [==============================] - 3s 361ms/step - loss: 0.4370 - accuracy: 0.9407\n"
          ]
        },
        {
          "output_type": "execute_result",
          "data": {
            "text/plain": [
              "[0.43702974915504456, 0.9406631588935852]"
            ]
          },
          "metadata": {},
          "execution_count": 177
        }
      ]
    },
    {
      "cell_type": "code",
      "source": [
        "#plot confusion matrix\n",
        "def plt_confusion_matrix(cm, classes, normalize=False, title=\"Confusion Matrix\", cmap=plt.cm.Blues):\n",
        "  plt.imshow(cm, interpolation='nearest', cmap=cmap)\n",
        "  plt.title(title)\n",
        "  plt.colorbar()\n",
        "  tick_mark = np.arange(len(classes))\n",
        "  plt.xticks(tick_mark, classes, rotation=45)\n",
        "  plt.yticks(tick_mark, classes)\n",
        "\n",
        "  if normalize:\n",
        "    cm = cm.astype('float') / cm.sum(axis=1)[:, np.axis]\n",
        "    print(\"normalized confusion matrix\")\n",
        "\n",
        "  else:\n",
        "    print(\"confusion matrix without normalization\")\n",
        "  \n",
        "  thresh = cm.max() / 2\n",
        "  for i, j in itertools.product(range(cm.shape[0]), range(cm.shape[1])):\n",
        "    plt.text(j, i, cm[i, j], horizontalalignment=\"center\", color=\"white\" if cm[i, j] > thresh else \"black\")\n",
        "\n",
        "  plt.tight_layout()\n",
        "  plt.xlabel(\"predicted label\")\n",
        "  plt.ylabel(\"True label\")"
      ],
      "metadata": {
        "id": "Cz2JdxzP-jou"
      },
      "execution_count": 180,
      "outputs": []
    },
    {
      "cell_type": "code",
      "source": [
        "prediction = model.predict(test_df, verbose=0)"
      ],
      "metadata": {
        "id": "HOGI2_8c_VJd"
      },
      "execution_count": 181,
      "outputs": []
    },
    {
      "cell_type": "code",
      "source": [
        "np.around(prediction)"
      ],
      "metadata": {
        "colab": {
          "base_uri": "https://localhost:8080/"
        },
        "id": "9p1tZjsP_sVW",
        "outputId": "b21136eb-7c45-495f-d206-754ccc57e415"
      },
      "execution_count": 182,
      "outputs": [
        {
          "output_type": "execute_result",
          "data": {
            "text/plain": [
              "array([[0., 0., 0., 1.],\n",
              "       [0., 0., 0., 1.],\n",
              "       [0., 1., 0., 0.],\n",
              "       ...,\n",
              "       [0., 1., 0., 0.],\n",
              "       [0., 0., 1., 0.],\n",
              "       [1., 0., 0., 0.]], dtype=float32)"
            ]
          },
          "metadata": {},
          "execution_count": 182
        }
      ]
    },
    {
      "cell_type": "code",
      "source": [
        "y_pred_classes = np.argmax(prediction, axis=1)"
      ],
      "metadata": {
        "id": "QsorrWgtAyWN"
      },
      "execution_count": 189,
      "outputs": []
    },
    {
      "cell_type": "code",
      "source": [
        "classes = {\"glioma\":0, \"meningioma\":1, \"notumor\":2, \"pituitary\":3}"
      ],
      "metadata": {
        "id": "DOjhEspQAJL9"
      },
      "execution_count": 186,
      "outputs": []
    },
    {
      "cell_type": "code",
      "source": [
        "cm = confusion_matrix(y_true=classes, y_pred=y_pred_classes)"
      ],
      "metadata": {
        "id": "7w9IQCE1_Zsl"
      },
      "execution_count": null,
      "outputs": []
    },
    {
      "cell_type": "code",
      "source": [
        "df = tf.data.Dataset.from_tensor_slices((x_test))"
      ],
      "metadata": {
        "id": "mlxhWQEmC7Z_"
      },
      "execution_count": 195,
      "outputs": []
    },
    {
      "cell_type": "code",
      "source": [
        "for i, y in df:\n",
        "  print(i, y)"
      ],
      "metadata": {
        "colab": {
          "base_uri": "https://localhost:8080/",
          "height": 305
        },
        "id": "XbpjJNd5_5XU",
        "outputId": "106a7069-0643-4e5e-f55f-9dd1c891ef6d"
      },
      "execution_count": 198,
      "outputs": [
        {
          "output_type": "error",
          "ename": "TypeError",
          "evalue": "ignored",
          "traceback": [
            "\u001b[0;31m---------------------------------------------------------------------------\u001b[0m",
            "\u001b[0;31mTypeError\u001b[0m                                 Traceback (most recent call last)",
            "\u001b[0;32m<ipython-input-198-fbbabfa91b71>\u001b[0m in \u001b[0;36m<module>\u001b[0;34m\u001b[0m\n\u001b[0;32m----> 1\u001b[0;31m \u001b[0;32mfor\u001b[0m \u001b[0mi\u001b[0m\u001b[0;34m,\u001b[0m \u001b[0my\u001b[0m \u001b[0;32min\u001b[0m \u001b[0mdf\u001b[0m\u001b[0;34m:\u001b[0m\u001b[0;34m\u001b[0m\u001b[0;34m\u001b[0m\u001b[0m\n\u001b[0m\u001b[1;32m      2\u001b[0m   \u001b[0mprint\u001b[0m\u001b[0;34m(\u001b[0m\u001b[0mi\u001b[0m\u001b[0;34m,\u001b[0m \u001b[0my\u001b[0m\u001b[0;34m)\u001b[0m\u001b[0;34m\u001b[0m\u001b[0;34m\u001b[0m\u001b[0m\n",
            "\u001b[0;32m/usr/local/lib/python3.8/dist-packages/tensorflow/python/framework/ops.py\u001b[0m in \u001b[0;36m__iter__\u001b[0;34m(self)\u001b[0m\n\u001b[1;32m    583\u001b[0m       \u001b[0;32mraise\u001b[0m \u001b[0mTypeError\u001b[0m\u001b[0;34m(\u001b[0m\u001b[0;34m\"Cannot iterate over a tensor with unknown shape.\"\u001b[0m\u001b[0;34m)\u001b[0m\u001b[0;34m\u001b[0m\u001b[0;34m\u001b[0m\u001b[0m\n\u001b[1;32m    584\u001b[0m     \u001b[0;32mif\u001b[0m \u001b[0;32mnot\u001b[0m \u001b[0mshape\u001b[0m\u001b[0;34m:\u001b[0m\u001b[0;34m\u001b[0m\u001b[0;34m\u001b[0m\u001b[0m\n\u001b[0;32m--> 585\u001b[0;31m       \u001b[0;32mraise\u001b[0m \u001b[0mTypeError\u001b[0m\u001b[0;34m(\u001b[0m\u001b[0;34m\"Cannot iterate over a scalar tensor.\"\u001b[0m\u001b[0;34m)\u001b[0m\u001b[0;34m\u001b[0m\u001b[0;34m\u001b[0m\u001b[0m\n\u001b[0m\u001b[1;32m    586\u001b[0m     \u001b[0;32mif\u001b[0m \u001b[0mshape\u001b[0m\u001b[0;34m[\u001b[0m\u001b[0;36m0\u001b[0m\u001b[0;34m]\u001b[0m \u001b[0;32mis\u001b[0m \u001b[0;32mNone\u001b[0m\u001b[0;34m:\u001b[0m\u001b[0;34m\u001b[0m\u001b[0;34m\u001b[0m\u001b[0m\n\u001b[1;32m    587\u001b[0m       raise TypeError(\n",
            "\u001b[0;31mTypeError\u001b[0m: Cannot iterate over a scalar tensor."
          ]
        }
      ]
    },
    {
      "cell_type": "code",
      "source": [],
      "metadata": {
        "id": "pr-DNxd_B6i8"
      },
      "execution_count": null,
      "outputs": []
    }
  ]
}