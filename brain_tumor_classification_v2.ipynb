{
  "nbformat": 4,
  "nbformat_minor": 0,
  "metadata": {
    "colab": {
      "provenance": [],
      "gpuType": "T4",
      "mount_file_id": "1GvRyi7F9ONKEaLk9nElT8T2fs5GghFck",
      "authorship_tag": "ABX9TyNyQbJdFL9KDQcmNyYp05hr",
      "include_colab_link": true
    },
    "kernelspec": {
      "name": "python3",
      "display_name": "Python 3"
    },
    "language_info": {
      "name": "python"
    },
    "accelerator": "GPU"
  },
  "cells": [
    {
      "cell_type": "markdown",
      "metadata": {
        "id": "view-in-github",
        "colab_type": "text"
      },
      "source": [
        "<a href=\"https://colab.research.google.com/github/MorningStarTM/brain_cancer_detection/blob/main/brain_tumor_classification_v2.ipynb\" target=\"_parent\"><img src=\"https://colab.research.google.com/assets/colab-badge.svg\" alt=\"Open In Colab\"/></a>"
      ]
    },
    {
      "cell_type": "code",
      "execution_count": 1,
      "metadata": {
        "id": "zwQSP3ujfohd"
      },
      "outputs": [],
      "source": [
        "#importing libraries\n",
        "import os\n",
        "import cv2\n",
        "import itertools\n",
        "import numpy as np\n",
        "import matplotlib.pyplot as plt\n",
        "import tensorflow as tf\n",
        "from sklearn.utils import shuffle\n",
        "from glob import glob\n",
        "from tensorflow.keras.layers import*\n",
        "from tensorflow.keras.models import Model\n",
        "from tensorflow.keras.callbacks import*\n",
        "from sklearn.model_selection import train_test_split\n",
        "from sklearn import metrics\n",
        "from sklearn.metrics import confusion_matrix"
      ]
    },
    {
      "cell_type": "code",
      "source": [
        "#parameters\n",
        "H, W = 224, 224\n",
        "channel = 3\n",
        "num_class = 3\n",
        "batch_size = 64\n",
        "class_names = [\"glioma\", \"meningioma\", \"notumor\", \"pituitary\"]"
      ],
      "metadata": {
        "id": "OFFQelo5gDNv"
      },
      "execution_count": 2,
      "outputs": []
    },
    {
      "cell_type": "markdown",
      "source": [
        "## Data Pipeline"
      ],
      "metadata": {
        "id": "EBgdK6XEsWou"
      }
    },
    {
      "cell_type": "code",
      "source": [
        "\n",
        "def load_data(path, split=0.1):\n",
        "    images = shuffle(glob(os.path.join(path, \"*\", \"*.jpg\")))\n",
        "    \n",
        "    split_size = int(len(images) * split)\n",
        "    #split the data\n",
        "    train_data, valid_data = train_test_split(images, test_size=split_size, random_state=42)\n",
        "    train_data, test_data = train_test_split(train_data, test_size=split_size, random_state=42)\n",
        "\n",
        "    return train_data, valid_data, test_data "
      ],
      "metadata": {
        "id": "zuRqQ9qsgGSx"
      },
      "execution_count": 3,
      "outputs": []
    },
    {
      "cell_type": "code",
      "source": [
        "def process_image(path):\n",
        "    #decode the path\n",
        "    path = path.decode()\n",
        "    #read image\n",
        "    image = cv2.imread(path, cv2.IMREAD_COLOR)\n",
        "    #resize the image\n",
        "    image = cv2.resize(image, [224, 224])\n",
        "    #scale the image\n",
        "    image = image / 255.0\n",
        "    #change the data type of image\n",
        "    image = image.astype(np.float32)\n",
        "\n",
        "    #labeling the image\n",
        "    class_name = path.split(\"/\")[-2]\n",
        "    class_idx = class_names.index(class_name)\n",
        "    class_idx = np.array(class_idx, dtype=np.int32)\n",
        "\n",
        "    return image, class_idx"
      ],
      "metadata": {
        "id": "J6D_e-wxgIIB"
      },
      "execution_count": 4,
      "outputs": []
    },
    {
      "cell_type": "code",
      "source": [
        "def parse(path):\n",
        "    image, labels = tf.numpy_function(process_image, [path], (tf.float32, tf.int32))\n",
        "    labels = tf.one_hot(labels, 4)\n",
        "    image.set_shape([224, 224, 3])\n",
        "    labels.set_shape(4)\n",
        "  \n",
        "    return image, labels"
      ],
      "metadata": {
        "id": "-UM2Yz22gJlo"
      },
      "execution_count": 5,
      "outputs": []
    },
    {
      "cell_type": "code",
      "source": [
        "#tensorflow dataset\n",
        "def tf_dataset(images, batch=8):\n",
        "    dataset = tf.data.Dataset.from_tensor_slices((images))\n",
        "    dataset = dataset.map(parse)\n",
        "    dataset = dataset.batch(batch_size)\n",
        "    dataset = dataset.prefetch(8)\n",
        "    return dataset"
      ],
      "metadata": {
        "id": "3htuumRugLOV"
      },
      "execution_count": 6,
      "outputs": []
    },
    {
      "cell_type": "code",
      "source": [
        "#input layer\n",
        "inputs = Input(shape=(W, H, channel))"
      ],
      "metadata": {
        "id": "MwnIUoGbgMzr"
      },
      "execution_count": 7,
      "outputs": []
    },
    {
      "cell_type": "code",
      "source": [
        "#convolutional layer\n",
        "conv_x = Conv2D(16, (3,3), activation='relu', padding='same', strides=(1,1), kernel_initializer='he_normal')(inputs)\n",
        "conv_x = MaxPooling2D((2,2), strides=(2,2))(conv_x)\n",
        "conv_x = Conv2D(16, (3,3), activation='relu', padding='same', strides=(1,1), kernel_initializer='he_normal')(conv_x)\n",
        "\n",
        "conv_x = Conv2D(32, (3,3), activation='relu', padding='same', strides=(1,1), kernel_initializer='he_normal')(conv_x)\n",
        "conv_x = MaxPooling2D((2,2), strides=(1,1))(conv_x)\n",
        "conv_x = Conv2D(32, (3,3), activation='relu', padding='same', strides=(1,1), kernel_initializer='he_normal')(conv_x)\n",
        "\n",
        "conv_x = Conv2D(64, (3,3), activation='relu', padding='same', strides=(1,1), kernel_initializer='he_normal')(conv_x)\n",
        "conv_x = MaxPooling2D((2,2), strides=(2,2))(conv_x)\n",
        "conv_x = Conv2D(64, (3,3), activation='relu', padding='same', strides=(1,1), kernel_initializer='he_normal')(conv_x)\n",
        "\n",
        "conv_x = Conv2D(128, (3,3), activation='relu', padding='same', strides=(1,1), kernel_initializer='he_normal')(conv_x)\n",
        "conv_x = MaxPooling2D((2,2), strides=(2,2))(conv_x)\n",
        "conv_x = Conv2D(128, (3,3), activation='relu', padding='same', strides=(1,1), kernel_initializer='he_normal')(conv_x)\n",
        "\n",
        "conv_x = Conv2D(256, (3,3), activation='relu', padding='same', strides=(1,1), kernel_initializer='he_normal')(conv_x)\n",
        "conv_x = MaxPooling2D((2,2), strides=(2,2))(conv_x)\n",
        "conv_x = Conv2D(256, (3,3), activation='relu', padding='same', strides=(1,1), kernel_initializer='he_normal')(conv_x)\n",
        "\n",
        "conv_x = Conv2D(512, (3,3), activation='relu', padding='same', strides=(1,1), kernel_initializer='he_normal')(conv_x)\n",
        "conv_x = MaxPooling2D((2,2), strides=(2,2))(conv_x)\n",
        "conv_x = Conv2D(512, (3,3), activation='relu', padding='same', strides=(1,1), kernel_initializer='he_normal')(conv_x)\n",
        "\n",
        "#flatting\n",
        "flatten = Flatten()(conv_x)\n",
        "conv_x = Dense(64, activation='relu')(flatten)\n",
        "\n",
        "#adding Dense layer with number of class \n",
        "outputs = Dense(4, activation='softmax')(conv_x)"
      ],
      "metadata": {
        "id": "NOTaQneZgOnG"
      },
      "execution_count": 19,
      "outputs": []
    },
    {
      "cell_type": "code",
      "source": [
        "model = Model(inputs=inputs, outputs=outputs)"
      ],
      "metadata": {
        "id": "8Bm11jHtgazE"
      },
      "execution_count": 20,
      "outputs": []
    },
    {
      "cell_type": "code",
      "source": [
        "model.summary()"
      ],
      "metadata": {
        "colab": {
          "base_uri": "https://localhost:8080/"
        },
        "id": "nZoF4SgSgfiO",
        "outputId": "849f86ab-45fd-4b63-9bc3-98bf1d932aa6"
      },
      "execution_count": 21,
      "outputs": [
        {
          "output_type": "stream",
          "name": "stdout",
          "text": [
            "Model: \"model_1\"\n",
            "_________________________________________________________________\n",
            " Layer (type)                Output Shape              Param #   \n",
            "=================================================================\n",
            " input_1 (InputLayer)        [(None, 224, 224, 3)]     0         \n",
            "                                                                 \n",
            " conv2d_10 (Conv2D)          (None, 224, 224, 16)      448       \n",
            "                                                                 \n",
            " max_pooling2d_5 (MaxPooling  (None, 112, 112, 16)     0         \n",
            " 2D)                                                             \n",
            "                                                                 \n",
            " conv2d_11 (Conv2D)          (None, 112, 112, 16)      2320      \n",
            "                                                                 \n",
            " conv2d_12 (Conv2D)          (None, 112, 112, 32)      4640      \n",
            "                                                                 \n",
            " max_pooling2d_6 (MaxPooling  (None, 111, 111, 32)     0         \n",
            " 2D)                                                             \n",
            "                                                                 \n",
            " conv2d_13 (Conv2D)          (None, 111, 111, 32)      9248      \n",
            "                                                                 \n",
            " conv2d_14 (Conv2D)          (None, 111, 111, 64)      18496     \n",
            "                                                                 \n",
            " max_pooling2d_7 (MaxPooling  (None, 55, 55, 64)       0         \n",
            " 2D)                                                             \n",
            "                                                                 \n",
            " conv2d_15 (Conv2D)          (None, 55, 55, 64)        36928     \n",
            "                                                                 \n",
            " conv2d_16 (Conv2D)          (None, 55, 55, 128)       73856     \n",
            "                                                                 \n",
            " max_pooling2d_8 (MaxPooling  (None, 27, 27, 128)      0         \n",
            " 2D)                                                             \n",
            "                                                                 \n",
            " conv2d_17 (Conv2D)          (None, 27, 27, 128)       147584    \n",
            "                                                                 \n",
            " conv2d_18 (Conv2D)          (None, 27, 27, 256)       295168    \n",
            "                                                                 \n",
            " max_pooling2d_9 (MaxPooling  (None, 13, 13, 256)      0         \n",
            " 2D)                                                             \n",
            "                                                                 \n",
            " conv2d_19 (Conv2D)          (None, 13, 13, 256)       590080    \n",
            "                                                                 \n",
            " conv2d_20 (Conv2D)          (None, 13, 13, 512)       1180160   \n",
            "                                                                 \n",
            " max_pooling2d_10 (MaxPoolin  (None, 6, 6, 512)        0         \n",
            " g2D)                                                            \n",
            "                                                                 \n",
            " conv2d_21 (Conv2D)          (None, 6, 6, 512)         2359808   \n",
            "                                                                 \n",
            " flatten_1 (Flatten)         (None, 18432)             0         \n",
            "                                                                 \n",
            " dense_2 (Dense)             (None, 64)                1179712   \n",
            "                                                                 \n",
            " dense_3 (Dense)             (None, 4)                 260       \n",
            "                                                                 \n",
            "=================================================================\n",
            "Total params: 5,898,708\n",
            "Trainable params: 5,898,708\n",
            "Non-trainable params: 0\n",
            "_________________________________________________________________\n"
          ]
        }
      ]
    },
    {
      "cell_type": "code",
      "source": [
        "#callbacks parameter //paths\n",
        "model_path = \"/content/drive/MyDrive/CNN_Models/brain_tumor_model_2.h5\"\n",
        "csv_path = \"/content/drive/MyDrive/Model CSV/brain_tumor_1.csv\"\n",
        "    "
      ],
      "metadata": {
        "id": "vj_Y7bGjgh_H"
      },
      "execution_count": 11,
      "outputs": []
    },
    {
      "cell_type": "code",
      "source": [
        "#initalize callbacks\n",
        "callbacks = [\n",
        "    ModelCheckpoint(model_path, verbose=1, save_best_only=True),\n",
        "    CSVLogger(csv_path),\n",
        "    ReduceLROnPlateau(monitor='val_accuracy', factor=0.1, patience=5, min_lr=1e-7, verbose=1)\n",
        "]"
      ],
      "metadata": {
        "id": "EMGhlGrpgpI9"
      },
      "execution_count": 12,
      "outputs": []
    },
    {
      "cell_type": "code",
      "source": [
        "#compile the model\n",
        "model.compile(optimizer='adam', loss='categorical_crossentropy', metrics=['accuracy'])"
      ],
      "metadata": {
        "id": "VOyWRfLmgrZY"
      },
      "execution_count": 22,
      "outputs": []
    },
    {
      "cell_type": "code",
      "source": [
        "#dataset path\n",
        "path = \"/content/drive/MyDrive/DataSet/brain_cancer/Training\""
      ],
      "metadata": {
        "id": "GyhQVwJzgtgB"
      },
      "execution_count": 14,
      "outputs": []
    },
    {
      "cell_type": "code",
      "source": [
        "#split the dataset\n",
        "x_train, x_valid, x_test = load_data(path)\n",
        "print(f\"Train:{len(x_train)} - Test:{len(x_test)} - Valid:{len(x_valid)}\")"
      ],
      "metadata": {
        "colab": {
          "base_uri": "https://localhost:8080/"
        },
        "id": "9fBRVnSwgu_X",
        "outputId": "2d9687ec-d452-400e-aafd-e0278041bb15"
      },
      "execution_count": 15,
      "outputs": [
        {
          "output_type": "stream",
          "name": "stdout",
          "text": [
            "Train:4586 - Test:573 - Valid:573\n"
          ]
        }
      ]
    },
    {
      "cell_type": "code",
      "source": [
        "#tensor dataset\n",
        "train_df = tf_dataset(x_train)\n",
        "test_df = tf_dataset(x_test)\n",
        "valid_df = tf_dataset(x_valid)"
      ],
      "metadata": {
        "id": "o8y8KDrogxnX"
      },
      "execution_count": 16,
      "outputs": []
    },
    {
      "cell_type": "code",
      "source": [
        "model.fit(\n",
        "    train_df,\n",
        "    validation_data=valid_df,\n",
        "    epochs=20,\n",
        "    batch_size=64,\n",
        "    callbacks=callbacks\n",
        ")"
      ],
      "metadata": {
        "colab": {
          "base_uri": "https://localhost:8080/"
        },
        "id": "ZtYL0BKbg0gs",
        "outputId": "ae8cecbe-fd41-4b35-f7d3-ecbc531fcb18"
      },
      "execution_count": 23,
      "outputs": [
        {
          "output_type": "stream",
          "name": "stdout",
          "text": [
            "Epoch 1/20\n",
            "72/72 [==============================] - ETA: 0s - loss: 1.3711 - accuracy: 0.3522\n",
            "Epoch 1: val_loss did not improve from 0.30297\n",
            "72/72 [==============================] - 35s 379ms/step - loss: 1.3711 - accuracy: 0.3522 - val_loss: 1.1128 - val_accuracy: 0.5340 - lr: 0.0010\n",
            "Epoch 2/20\n",
            "72/72 [==============================] - ETA: 0s - loss: 0.7331 - accuracy: 0.7002\n",
            "Epoch 2: val_loss did not improve from 0.30297\n",
            "72/72 [==============================] - 31s 426ms/step - loss: 0.7331 - accuracy: 0.7002 - val_loss: 0.6346 - val_accuracy: 0.7784 - lr: 0.0010\n",
            "Epoch 3/20\n",
            "72/72 [==============================] - ETA: 0s - loss: 0.4978 - accuracy: 0.8072\n",
            "Epoch 3: val_loss did not improve from 0.30297\n",
            "72/72 [==============================] - 30s 417ms/step - loss: 0.4978 - accuracy: 0.8072 - val_loss: 0.4626 - val_accuracy: 0.8290 - lr: 0.0010\n",
            "Epoch 4/20\n",
            "72/72 [==============================] - ETA: 0s - loss: 0.4156 - accuracy: 0.8397\n",
            "Epoch 4: val_loss did not improve from 0.30297\n",
            "72/72 [==============================] - 28s 391ms/step - loss: 0.4156 - accuracy: 0.8397 - val_loss: 0.3845 - val_accuracy: 0.8743 - lr: 0.0010\n",
            "Epoch 5/20\n",
            "72/72 [==============================] - ETA: 0s - loss: 0.3276 - accuracy: 0.8757\n",
            "Epoch 5: val_loss did not improve from 0.30297\n",
            "72/72 [==============================] - 30s 418ms/step - loss: 0.3276 - accuracy: 0.8757 - val_loss: 0.3269 - val_accuracy: 0.8883 - lr: 0.0010\n",
            "Epoch 6/20\n",
            "72/72 [==============================] - ETA: 0s - loss: 0.2757 - accuracy: 0.8980\n",
            "Epoch 6: val_loss did not improve from 0.30297\n",
            "72/72 [==============================] - 31s 424ms/step - loss: 0.2757 - accuracy: 0.8980 - val_loss: 0.3084 - val_accuracy: 0.9092 - lr: 0.0010\n",
            "Epoch 7/20\n",
            "72/72 [==============================] - ETA: 0s - loss: 0.2290 - accuracy: 0.9119\n",
            "Epoch 7: val_loss improved from 0.30297 to 0.28796, saving model to /content/drive/MyDrive/CNN_Models/brain_tumor_model_2.h5\n",
            "72/72 [==============================] - 32s 447ms/step - loss: 0.2290 - accuracy: 0.9119 - val_loss: 0.2880 - val_accuracy: 0.9023 - lr: 0.0010\n",
            "Epoch 8/20\n",
            "72/72 [==============================] - ETA: 0s - loss: 0.1917 - accuracy: 0.9309\n",
            "Epoch 8: val_loss did not improve from 0.28796\n",
            "72/72 [==============================] - 29s 401ms/step - loss: 0.1917 - accuracy: 0.9309 - val_loss: 0.2980 - val_accuracy: 0.9075 - lr: 0.0010\n",
            "Epoch 9/20\n",
            "72/72 [==============================] - ETA: 0s - loss: 0.1413 - accuracy: 0.9503\n",
            "Epoch 9: val_loss did not improve from 0.28796\n",
            "72/72 [==============================] - 31s 429ms/step - loss: 0.1413 - accuracy: 0.9503 - val_loss: 0.2883 - val_accuracy: 0.9110 - lr: 0.0010\n",
            "Epoch 10/20\n",
            "72/72 [==============================] - ETA: 0s - loss: 0.1114 - accuracy: 0.9608\n",
            "Epoch 10: val_loss did not improve from 0.28796\n",
            "72/72 [==============================] - 28s 386ms/step - loss: 0.1114 - accuracy: 0.9608 - val_loss: 0.3145 - val_accuracy: 0.8901 - lr: 0.0010\n",
            "Epoch 11/20\n",
            "72/72 [==============================] - ETA: 0s - loss: 0.1300 - accuracy: 0.9531\n",
            "Epoch 11: val_loss did not improve from 0.28796\n",
            "72/72 [==============================] - 30s 417ms/step - loss: 0.1300 - accuracy: 0.9531 - val_loss: 0.3179 - val_accuracy: 0.9040 - lr: 0.0010\n",
            "Epoch 12/20\n",
            "72/72 [==============================] - ETA: 0s - loss: 0.1112 - accuracy: 0.9621\n",
            "Epoch 12: val_loss improved from 0.28796 to 0.24472, saving model to /content/drive/MyDrive/CNN_Models/brain_tumor_model_2.h5\n",
            "72/72 [==============================] - 29s 402ms/step - loss: 0.1112 - accuracy: 0.9621 - val_loss: 0.2447 - val_accuracy: 0.9337 - lr: 0.0010\n",
            "Epoch 13/20\n",
            "72/72 [==============================] - ETA: 0s - loss: 0.0812 - accuracy: 0.9721\n",
            "Epoch 13: val_loss did not improve from 0.24472\n",
            "72/72 [==============================] - 30s 415ms/step - loss: 0.0812 - accuracy: 0.9721 - val_loss: 0.2772 - val_accuracy: 0.9337 - lr: 0.0010\n",
            "Epoch 14/20\n",
            "72/72 [==============================] - ETA: 0s - loss: 0.0721 - accuracy: 0.9714\n",
            "Epoch 14: val_loss did not improve from 0.24472\n",
            "72/72 [==============================] - 28s 385ms/step - loss: 0.0721 - accuracy: 0.9714 - val_loss: 0.3670 - val_accuracy: 0.9110 - lr: 0.0010\n",
            "Epoch 15/20\n",
            "72/72 [==============================] - ETA: 0s - loss: 0.0832 - accuracy: 0.9701\n",
            "Epoch 15: val_loss improved from 0.24472 to 0.22919, saving model to /content/drive/MyDrive/CNN_Models/brain_tumor_model_2.h5\n",
            "72/72 [==============================] - 31s 427ms/step - loss: 0.0832 - accuracy: 0.9701 - val_loss: 0.2292 - val_accuracy: 0.9250 - lr: 0.0010\n",
            "Epoch 16/20\n",
            "72/72 [==============================] - ETA: 0s - loss: 0.0730 - accuracy: 0.9738\n",
            "Epoch 16: val_loss did not improve from 0.22919\n",
            "72/72 [==============================] - 30s 416ms/step - loss: 0.0730 - accuracy: 0.9738 - val_loss: 0.3293 - val_accuracy: 0.9180 - lr: 0.0010\n",
            "Epoch 17/20\n",
            "72/72 [==============================] - ETA: 0s - loss: 0.0746 - accuracy: 0.9736\n",
            "Epoch 17: val_loss did not improve from 0.22919\n",
            "\n",
            "Epoch 17: ReduceLROnPlateau reducing learning rate to 0.00010000000474974513.\n",
            "72/72 [==============================] - 30s 419ms/step - loss: 0.0746 - accuracy: 0.9736 - val_loss: 0.2867 - val_accuracy: 0.9145 - lr: 0.0010\n",
            "Epoch 18/20\n",
            "72/72 [==============================] - ETA: 0s - loss: 0.0423 - accuracy: 0.9865\n",
            "Epoch 18: val_loss improved from 0.22919 to 0.17285, saving model to /content/drive/MyDrive/CNN_Models/brain_tumor_model_2.h5\n",
            "72/72 [==============================] - 29s 399ms/step - loss: 0.0423 - accuracy: 0.9865 - val_loss: 0.1728 - val_accuracy: 0.9511 - lr: 1.0000e-04\n",
            "Epoch 19/20\n",
            "72/72 [==============================] - ETA: 0s - loss: 0.0126 - accuracy: 0.9972\n",
            "Epoch 19: val_loss did not improve from 0.17285\n",
            "72/72 [==============================] - 28s 383ms/step - loss: 0.0126 - accuracy: 0.9972 - val_loss: 0.1844 - val_accuracy: 0.9529 - lr: 1.0000e-04\n",
            "Epoch 20/20\n",
            "72/72 [==============================] - ETA: 0s - loss: 0.0068 - accuracy: 0.9993\n",
            "Epoch 20: val_loss did not improve from 0.17285\n",
            "72/72 [==============================] - 30s 414ms/step - loss: 0.0068 - accuracy: 0.9993 - val_loss: 0.1982 - val_accuracy: 0.9581 - lr: 1.0000e-04\n"
          ]
        },
        {
          "output_type": "execute_result",
          "data": {
            "text/plain": [
              "<keras.callbacks.History at 0x7faefacb5330>"
            ]
          },
          "metadata": {},
          "execution_count": 23
        }
      ]
    },
    {
      "cell_type": "code",
      "source": [
        "model.evaluate(test_df)"
      ],
      "metadata": {
        "colab": {
          "base_uri": "https://localhost:8080/"
        },
        "id": "E4UTK3kog6nG",
        "outputId": "1c48121f-f2a6-4b7c-d5b0-9d0770a718a1"
      },
      "execution_count": 24,
      "outputs": [
        {
          "output_type": "stream",
          "name": "stdout",
          "text": [
            "9/9 [==============================] - 3s 311ms/step - loss: 0.2344 - accuracy: 0.9494\n"
          ]
        },
        {
          "output_type": "execute_result",
          "data": {
            "text/plain": [
              "[0.23436440527439117, 0.9493891596794128]"
            ]
          },
          "metadata": {},
          "execution_count": 24
        }
      ]
    },
    {
      "cell_type": "code",
      "source": [
        "#plot confusion matrix\n",
        "def plt_confusion_matrix(cm, classes, normalize=False, title=\"Confusion Matrix\", cmap=plt.cm.Blues):\n",
        "  plt.imshow(cm, interpolation='nearest', cmap=cmap)\n",
        "  plt.title(title)\n",
        "  plt.colorbar()\n",
        "  tick_mark = np.arange(len(classes))\n",
        "  plt.xticks(tick_mark, classes, rotation=45)\n",
        "  plt.yticks(tick_mark, classes)\n",
        "\n",
        "  if normalize:\n",
        "    cm = cm.astype('float') / cm.sum(axis=1)[:, np.axis]\n",
        "    print(\"normalized confusion matrix\")\n",
        "\n",
        "  else:\n",
        "    print(\"confusion matrix without normalization\")\n",
        "  \n",
        "  thresh = cm.max() / 2\n",
        "  for i, j in itertools.product(range(cm.shape[0]), range(cm.shape[1])):\n",
        "    plt.text(j, i, cm[i, j], horizontalalignment=\"center\", color=\"white\" if cm[i, j] > thresh else \"black\")\n",
        "\n",
        "  plt.tight_layout()\n",
        "  plt.xlabel(\"predicted label\")\n",
        "  plt.ylabel(\"True label\")"
      ],
      "metadata": {
        "id": "fJV5JrwIoEng"
      },
      "execution_count": 25,
      "outputs": []
    },
    {
      "cell_type": "code",
      "source": [
        "#prediction\n",
        "prediction = model.predict(test_df, verbose=0)"
      ],
      "metadata": {
        "id": "oltLhLdWrcVr"
      },
      "execution_count": 26,
      "outputs": []
    },
    {
      "cell_type": "code",
      "source": [
        "#scale the predicted value\n",
        "np.around(prediction)"
      ],
      "metadata": {
        "colab": {
          "base_uri": "https://localhost:8080/"
        },
        "id": "y1tkPcwErevr",
        "outputId": "73dd10fc-8ba1-45d2-a704-03e6f9146339"
      },
      "execution_count": 27,
      "outputs": [
        {
          "output_type": "execute_result",
          "data": {
            "text/plain": [
              "array([[0., 1., 0., 0.],\n",
              "       [1., 0., 0., 0.],\n",
              "       [0., 0., 0., 1.],\n",
              "       ...,\n",
              "       [0., 1., 0., 0.],\n",
              "       [1., 0., 0., 0.],\n",
              "       [0., 0., 1., 0.]], dtype=float32)"
            ]
          },
          "metadata": {},
          "execution_count": 27
        }
      ]
    },
    {
      "cell_type": "code",
      "source": [
        "#get the max value \n",
        "y_pred_classes = np.argmax(prediction, axis=1)"
      ],
      "metadata": {
        "id": "RuKruwmHrgjL"
      },
      "execution_count": 28,
      "outputs": []
    },
    {
      "cell_type": "code",
      "source": [
        "#function for get labels of test set\n",
        "def get_test_data_class(test_path):\n",
        "  names = []\n",
        "  for i in test_path:\n",
        "    name = i.split(\"/\")[-2]\n",
        "    name_idx = class_names.index(name)\n",
        "    names.append(name_idx)\n",
        "  names = np.array(names, dtype=np.int32)\n",
        "  return names"
      ],
      "metadata": {
        "id": "kQ87IOxcrige"
      },
      "execution_count": 29,
      "outputs": []
    },
    {
      "cell_type": "code",
      "source": [
        "classes = get_test_data_class(x_test)"
      ],
      "metadata": {
        "id": "dtU9f0DhrkBG"
      },
      "execution_count": 30,
      "outputs": []
    },
    {
      "cell_type": "code",
      "source": [
        "#confusion matrix\n",
        "cm = confusion_matrix(y_true=classes, y_pred=y_pred_classes)"
      ],
      "metadata": {
        "id": "NwoEbdINrmCG"
      },
      "execution_count": 31,
      "outputs": []
    },
    {
      "cell_type": "code",
      "source": [
        "plt_confusion_matrix(cm=cm, classes=class_names, title=\"confusion matrix\", )"
      ],
      "metadata": {
        "colab": {
          "base_uri": "https://localhost:8080/",
          "height": 523
        },
        "id": "ZvtObfDHrn5A",
        "outputId": "3c0f96f1-680e-41ae-e438-f16bddfcd93a"
      },
      "execution_count": 32,
      "outputs": [
        {
          "output_type": "stream",
          "name": "stdout",
          "text": [
            "confusion matrix without normalization\n"
          ]
        },
        {
          "output_type": "display_data",
          "data": {
            "text/plain": [
              "<Figure size 640x480 with 2 Axes>"
            ],
            "image/png": "[encoded data removed]"
          },
          "metadata": {}
        }
      ]
    },
    {
      "cell_type": "code",
      "source": [],
      "metadata": {
        "id": "ohXQU1LzrsYr"
      },
      "execution_count": null,
      "outputs": []
    }
  ]
}