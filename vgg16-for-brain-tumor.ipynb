{
 "cells": [
  {
   "cell_type": "code",
   "execution_count": 1,
   "id": "7aaa3ead",
   "metadata": {
    "execution": {
     "iopub.execute_input": "2023-06-03T06:13:43.841725Z",
     "iopub.status.busy": "2023-06-03T06:13:43.840911Z",
     "iopub.status.idle": "2023-06-03T06:13:54.592533Z",
     "shell.execute_reply": "2023-06-03T06:13:54.591512Z"
    },
    "papermill": {
     "duration": 10.765987,
     "end_time": "2023-06-03T06:13:54.595280",
     "exception": false,
     "start_time": "2023-06-03T06:13:43.829293",
     "status": "completed"
    },
    "tags": []
   },
   "outputs": [
    {
     "name": "stderr",
     "output_type": "stream",
     "text": [
      "/opt/conda/lib/python3.10/site-packages/tensorflow_io/python/ops/__init__.py:98: UserWarning: unable to load libtensorflow_io_plugins.so: unable to open file: libtensorflow_io_plugins.so, from paths: ['/opt/conda/lib/python3.10/site-packages/tensorflow_io/python/ops/libtensorflow_io_plugins.so']\n",
      "caused by: ['/opt/conda/lib/python3.10/site-packages/tensorflow_io/python/ops/libtensorflow_io_plugins.so: undefined symbol: _ZN3tsl6StatusC1EN10tensorflow5error4CodeESt17basic_string_viewIcSt11char_traitsIcEENS_14SourceLocationE']\n",
      "  warnings.warn(f\"unable to load libtensorflow_io_plugins.so: {e}\")\n",
      "/opt/conda/lib/python3.10/site-packages/tensorflow_io/python/ops/__init__.py:104: UserWarning: file system plugins are not loaded: unable to open file: libtensorflow_io.so, from paths: ['/opt/conda/lib/python3.10/site-packages/tensorflow_io/python/ops/libtensorflow_io.so']\n",
      "caused by: ['/opt/conda/lib/python3.10/site-packages/tensorflow_io/python/ops/libtensorflow_io.so: undefined symbol: _ZTVN10tensorflow13GcsFileSystemE']\n",
      "  warnings.warn(f\"file system plugins are not loaded: {e}\")\n"
     ]
    }
   ],
   "source": [
    "import os\n",
    "import numpy as np\n",
    "import cv2\n",
    "from glob import glob\n",
    "import itertools\n",
    "import tensorflow as tf\n",
    "from sklearn.utils import shuffle\n",
    "import matplotlib.pyplot as plt\n",
    "from tensorflow.keras import layers\n",
    "from tensorflow.keras.models import Model\n",
    "from tensorflow.keras.callbacks import *\n",
    "from tensorflow.keras.applications.vgg16 import VGG16\n",
    "from tensorflow.keras.utils import plot_model\n",
    "from sklearn.model_selection import train_test_split\n",
    "from sklearn import metrics\n",
    "from sklearn.metrics import confusion_matrix\n",
    "from keras.initializers import glorot_uniform"
   ]
  },
  {
   "cell_type": "code",
   "execution_count": 2,
   "id": "f2890fac",
   "metadata": {
    "execution": {
     "iopub.execute_input": "2023-06-03T06:13:54.616529Z",
     "iopub.status.busy": "2023-06-03T06:13:54.614659Z",
     "iopub.status.idle": "2023-06-03T06:13:54.621785Z",
     "shell.execute_reply": "2023-06-03T06:13:54.620831Z"
    },
    "papermill": {
     "duration": 0.019076,
     "end_time": "2023-06-03T06:13:54.623834",
     "exception": false,
     "start_time": "2023-06-03T06:13:54.604758",
     "status": "completed"
    },
    "tags": []
   },
   "outputs": [],
   "source": [
    "#parameters\n",
    "classes = 4\n",
    "IMAGE_SIZE = [224,224]\n",
    "H, W = 224, 224\n",
    "channel = 3\n",
    "num_class = 3\n",
    "batch_size = 64\n",
    "class_names = [\"glioma\", \"meningioma\", \"notumor\", \"pituitary\"]"
   ]
  },
  {
   "cell_type": "markdown",
   "id": "60427928",
   "metadata": {
    "papermill": {
     "duration": 0.007668,
     "end_time": "2023-06-03T06:13:54.640014",
     "exception": false,
     "start_time": "2023-06-03T06:13:54.632346",
     "status": "completed"
    },
    "tags": []
   },
   "source": [
    "## Data Pipeline"
   ]
  },
  {
   "cell_type": "code",
   "execution_count": 3,
   "id": "3d9a6426",
   "metadata": {
    "execution": {
     "iopub.execute_input": "2023-06-03T06:13:54.658176Z",
     "iopub.status.busy": "2023-06-03T06:13:54.656776Z",
     "iopub.status.idle": "2023-06-03T06:13:54.662071Z",
     "shell.execute_reply": "2023-06-03T06:13:54.661230Z"
    },
    "papermill": {
     "duration": 0.016054,
     "end_time": "2023-06-03T06:13:54.664111",
     "exception": false,
     "start_time": "2023-06-03T06:13:54.648057",
     "status": "completed"
    },
    "tags": []
   },
   "outputs": [],
   "source": [
    "def load_data(path, split=0.1):\n",
    "    images = shuffle(glob(os.path.join(path, \"*\", \"*.jpg\")))\n",
    "    \n",
    "\n",
    "    return images "
   ]
  },
  {
   "cell_type": "code",
   "execution_count": 4,
   "id": "12b075f1",
   "metadata": {
    "execution": {
     "iopub.execute_input": "2023-06-03T06:13:54.682098Z",
     "iopub.status.busy": "2023-06-03T06:13:54.681843Z",
     "iopub.status.idle": "2023-06-03T06:13:54.687505Z",
     "shell.execute_reply": "2023-06-03T06:13:54.686559Z"
    },
    "papermill": {
     "duration": 0.016815,
     "end_time": "2023-06-03T06:13:54.689569",
     "exception": false,
     "start_time": "2023-06-03T06:13:54.672754",
     "status": "completed"
    },
    "tags": []
   },
   "outputs": [],
   "source": [
    "def process_image(path):\n",
    "    #decode the path\n",
    "    path = path.decode()\n",
    "    #read image\n",
    "    image = cv2.imread(path, cv2.IMREAD_COLOR)\n",
    "    #resize the image\n",
    "    image = cv2.resize(image, [224, 224])\n",
    "    #scale the image\n",
    "    image = image / 255.0\n",
    "    #change the data type of image\n",
    "    image = image.astype(np.float32)\n",
    "\n",
    "    #labeling the image\n",
    "    class_name = path.split(\"/\")[-2]\n",
    "    class_idx = class_names.index(class_name)\n",
    "    class_idx = np.array(class_idx, dtype=np.int32)\n",
    "\n",
    "    return image, class_idx"
   ]
  },
  {
   "cell_type": "code",
   "execution_count": 5,
   "id": "64573641",
   "metadata": {
    "execution": {
     "iopub.execute_input": "2023-06-03T06:13:54.707980Z",
     "iopub.status.busy": "2023-06-03T06:13:54.707134Z",
     "iopub.status.idle": "2023-06-03T06:13:54.712858Z",
     "shell.execute_reply": "2023-06-03T06:13:54.712004Z"
    },
    "papermill": {
     "duration": 0.016732,
     "end_time": "2023-06-03T06:13:54.714762",
     "exception": false,
     "start_time": "2023-06-03T06:13:54.698030",
     "status": "completed"
    },
    "tags": []
   },
   "outputs": [],
   "source": [
    "def parse(path):\n",
    "    image, labels = tf.numpy_function(process_image, [path], (tf.float32, tf.int32))\n",
    "    labels = tf.one_hot(labels, 4)\n",
    "    image.set_shape([224, 224, 3])\n",
    "    labels.set_shape(4)\n",
    "  \n",
    "    return image, labels"
   ]
  },
  {
   "cell_type": "code",
   "execution_count": 6,
   "id": "9e1dab08",
   "metadata": {
    "execution": {
     "iopub.execute_input": "2023-06-03T06:13:54.733002Z",
     "iopub.status.busy": "2023-06-03T06:13:54.731642Z",
     "iopub.status.idle": "2023-06-03T06:13:54.737031Z",
     "shell.execute_reply": "2023-06-03T06:13:54.736225Z"
    },
    "papermill": {
     "duration": 0.016068,
     "end_time": "2023-06-03T06:13:54.738982",
     "exception": false,
     "start_time": "2023-06-03T06:13:54.722914",
     "status": "completed"
    },
    "tags": []
   },
   "outputs": [],
   "source": [
    "#tensorflow dataset\n",
    "def tf_dataset(images, batch=8):\n",
    "    dataset = tf.data.Dataset.from_tensor_slices((images))\n",
    "    dataset = dataset.map(parse)\n",
    "    dataset = dataset.batch(batch_size)\n",
    "    dataset = dataset.prefetch(8)\n",
    "    return dataset"
   ]
  },
  {
   "cell_type": "code",
   "execution_count": 7,
   "id": "f7b89687",
   "metadata": {
    "execution": {
     "iopub.execute_input": "2023-06-03T06:13:54.756987Z",
     "iopub.status.busy": "2023-06-03T06:13:54.755646Z",
     "iopub.status.idle": "2023-06-03T06:13:54.760161Z",
     "shell.execute_reply": "2023-06-03T06:13:54.759378Z"
    },
    "papermill": {
     "duration": 0.015012,
     "end_time": "2023-06-03T06:13:54.762138",
     "exception": false,
     "start_time": "2023-06-03T06:13:54.747126",
     "status": "completed"
    },
    "tags": []
   },
   "outputs": [],
   "source": [
    "#callbacks parameter //paths\n",
    "model_path = \"vgg16_for_brain_tumor.h5\"\n",
    "csv_path = \"brain_tumor_1.csv\""
   ]
  },
  {
   "cell_type": "markdown",
   "id": "76d003f1",
   "metadata": {
    "papermill": {
     "duration": 0.007803,
     "end_time": "2023-06-03T06:13:54.777991",
     "exception": false,
     "start_time": "2023-06-03T06:13:54.770188",
     "status": "completed"
    },
    "tags": []
   },
   "source": [
    "## Model"
   ]
  },
  {
   "cell_type": "code",
   "execution_count": 8,
   "id": "07e36e28",
   "metadata": {
    "execution": {
     "iopub.execute_input": "2023-06-03T06:13:54.796141Z",
     "iopub.status.busy": "2023-06-03T06:13:54.794675Z",
     "iopub.status.idle": "2023-06-03T06:13:59.864513Z",
     "shell.execute_reply": "2023-06-03T06:13:59.863535Z"
    },
    "papermill": {
     "duration": 5.081278,
     "end_time": "2023-06-03T06:13:59.867015",
     "exception": false,
     "start_time": "2023-06-03T06:13:54.785737",
     "status": "completed"
    },
    "tags": []
   },
   "outputs": [
    {
     "name": "stdout",
     "output_type": "stream",
     "text": [
      "Downloading data from https://storage.googleapis.com/tensorflow/keras-applications/vgg16/vgg16_weights_tf_dim_ordering_tf_kernels_notop.h5\n",
      "58889256/58889256 [==============================] - 0s 0us/step\n"
     ]
    }
   ],
   "source": [
    "model = VGG16(input_shape=IMAGE_SIZE + [3], weights='imagenet', include_top=False)"
   ]
  },
  {
   "cell_type": "code",
   "execution_count": 9,
   "id": "0a452d84",
   "metadata": {
    "execution": {
     "iopub.execute_input": "2023-06-03T06:13:59.886279Z",
     "iopub.status.busy": "2023-06-03T06:13:59.885971Z",
     "iopub.status.idle": "2023-06-03T06:13:59.891351Z",
     "shell.execute_reply": "2023-06-03T06:13:59.890474Z"
    },
    "papermill": {
     "duration": 0.017399,
     "end_time": "2023-06-03T06:13:59.893319",
     "exception": false,
     "start_time": "2023-06-03T06:13:59.875920",
     "status": "completed"
    },
    "tags": []
   },
   "outputs": [],
   "source": [
    "#freeze training existing layer\n",
    "for layer in model.layers:\n",
    "  layer.trainable = False"
   ]
  },
  {
   "cell_type": "code",
   "execution_count": 10,
   "id": "de505721",
   "metadata": {
    "execution": {
     "iopub.execute_input": "2023-06-03T06:13:59.911670Z",
     "iopub.status.busy": "2023-06-03T06:13:59.911407Z",
     "iopub.status.idle": "2023-06-03T06:13:59.921426Z",
     "shell.execute_reply": "2023-06-03T06:13:59.920613Z"
    },
    "papermill": {
     "duration": 0.021382,
     "end_time": "2023-06-03T06:13:59.923538",
     "exception": false,
     "start_time": "2023-06-03T06:13:59.902156",
     "status": "completed"
    },
    "tags": []
   },
   "outputs": [],
   "source": [
    "#build our layers\n",
    "x = layers.Flatten()(model.output)"
   ]
  },
  {
   "cell_type": "code",
   "execution_count": 11,
   "id": "303c21f0",
   "metadata": {
    "execution": {
     "iopub.execute_input": "2023-06-03T06:13:59.941572Z",
     "iopub.status.busy": "2023-06-03T06:13:59.941274Z",
     "iopub.status.idle": "2023-06-03T06:13:59.963416Z",
     "shell.execute_reply": "2023-06-03T06:13:59.962616Z"
    },
    "papermill": {
     "duration": 0.033546,
     "end_time": "2023-06-03T06:13:59.965510",
     "exception": false,
     "start_time": "2023-06-03T06:13:59.931964",
     "status": "completed"
    },
    "tags": []
   },
   "outputs": [],
   "source": [
    "#set last layer\n",
    "prediction_layer = layers.Dense(4, activation='softmax' )(x)\n",
    "#declare the model\n",
    "model = Model(inputs=model.input, outputs=prediction_layer)"
   ]
  },
  {
   "cell_type": "code",
   "execution_count": 12,
   "id": "80b31153",
   "metadata": {
    "execution": {
     "iopub.execute_input": "2023-06-03T06:13:59.984054Z",
     "iopub.status.busy": "2023-06-03T06:13:59.983223Z",
     "iopub.status.idle": "2023-06-03T06:14:00.029397Z",
     "shell.execute_reply": "2023-06-03T06:14:00.028539Z"
    },
    "papermill": {
     "duration": 0.08514,
     "end_time": "2023-06-03T06:14:00.059003",
     "exception": false,
     "start_time": "2023-06-03T06:13:59.973863",
     "status": "completed"
    },
    "tags": []
   },
   "outputs": [
    {
     "name": "stdout",
     "output_type": "stream",
     "text": [
      "Model: \"model\"\n",
      "_________________________________________________________________\n",
      " Layer (type)                Output Shape              Param #   \n",
      "=================================================================\n",
      " input_1 (InputLayer)        [(None, 224, 224, 3)]     0         \n",
      "                                                                 \n",
      " block1_conv1 (Conv2D)       (None, 224, 224, 64)      1792      \n",
      "                                                                 \n",
      " block1_conv2 (Conv2D)       (None, 224, 224, 64)      36928     \n",
      "                                                                 \n",
      " block1_pool (MaxPooling2D)  (None, 112, 112, 64)      0         \n",
      "                                                                 \n",
      " block2_conv1 (Conv2D)       (None, 112, 112, 128)     73856     \n",
      "                                                                 \n",
      " block2_conv2 (Conv2D)       (None, 112, 112, 128)     147584    \n",
      "                                                                 \n",
      " block2_pool (MaxPooling2D)  (None, 56, 56, 128)       0         \n",
      "                                                                 \n",
      " block3_conv1 (Conv2D)       (None, 56, 56, 256)       295168    \n",
      "                                                                 \n",
      " block3_conv2 (Conv2D)       (None, 56, 56, 256)       590080    \n",
      "                                                                 \n",
      " block3_conv3 (Conv2D)       (None, 56, 56, 256)       590080    \n",
      "                                                                 \n",
      " block3_pool (MaxPooling2D)  (None, 28, 28, 256)       0         \n",
      "                                                                 \n",
      " block4_conv1 (Conv2D)       (None, 28, 28, 512)       1180160   \n",
      "                                                                 \n",
      " block4_conv2 (Conv2D)       (None, 28, 28, 512)       2359808   \n",
      "                                                                 \n",
      " block4_conv3 (Conv2D)       (None, 28, 28, 512)       2359808   \n",
      "                                                                 \n",
      " block4_pool (MaxPooling2D)  (None, 14, 14, 512)       0         \n",
      "                                                                 \n",
      " block5_conv1 (Conv2D)       (None, 14, 14, 512)       2359808   \n",
      "                                                                 \n",
      " block5_conv2 (Conv2D)       (None, 14, 14, 512)       2359808   \n",
      "                                                                 \n",
      " block5_conv3 (Conv2D)       (None, 14, 14, 512)       2359808   \n",
      "                                                                 \n",
      " block5_pool (MaxPooling2D)  (None, 7, 7, 512)         0         \n",
      "                                                                 \n",
      " flatten (Flatten)           (None, 25088)             0         \n",
      "                                                                 \n",
      " dense (Dense)               (None, 4)                 100356    \n",
      "                                                                 \n",
      "=================================================================\n",
      "Total params: 14,815,044\n",
      "Trainable params: 100,356\n",
      "Non-trainable params: 14,714,688\n",
      "_________________________________________________________________\n"
     ]
    }
   ],
   "source": [
    "model.summary()"
   ]
  },
  {
   "cell_type": "code",
   "execution_count": 13,
   "id": "29a73331",
   "metadata": {
    "execution": {
     "iopub.execute_input": "2023-06-03T06:14:00.087662Z",
     "iopub.status.busy": "2023-06-03T06:14:00.087344Z",
     "iopub.status.idle": "2023-06-03T06:14:00.091831Z",
     "shell.execute_reply": "2023-06-03T06:14:00.091096Z"
    },
    "papermill": {
     "duration": 0.021125,
     "end_time": "2023-06-03T06:14:00.093757",
     "exception": false,
     "start_time": "2023-06-03T06:14:00.072632",
     "status": "completed"
    },
    "tags": []
   },
   "outputs": [],
   "source": [
    "callbacks = [\n",
    "    ModelCheckpoint(model_path, verbose=1, save_best_only=True),\n",
    "    CSVLogger(csv_path),\n",
    "    ReduceLROnPlateau(monitor='val_accuracy', factor=0.1, patience=5, min_lr=1e-7, verbose=1)\n",
    "]"
   ]
  },
  {
   "cell_type": "code",
   "execution_count": 14,
   "id": "d03eb839",
   "metadata": {
    "execution": {
     "iopub.execute_input": "2023-06-03T06:14:00.119423Z",
     "iopub.status.busy": "2023-06-03T06:14:00.119114Z",
     "iopub.status.idle": "2023-06-03T06:14:00.135542Z",
     "shell.execute_reply": "2023-06-03T06:14:00.134675Z"
    },
    "papermill": {
     "duration": 0.031536,
     "end_time": "2023-06-03T06:14:00.137674",
     "exception": false,
     "start_time": "2023-06-03T06:14:00.106138",
     "status": "completed"
    },
    "tags": []
   },
   "outputs": [],
   "source": [
    "#compile the model\n",
    "model.compile(optimizer='adam', loss='categorical_crossentropy', metrics=['accuracy'])"
   ]
  },
  {
   "cell_type": "code",
   "execution_count": 15,
   "id": "67ffdf03",
   "metadata": {
    "execution": {
     "iopub.execute_input": "2023-06-03T06:14:00.163049Z",
     "iopub.status.busy": "2023-06-03T06:14:00.162781Z",
     "iopub.status.idle": "2023-06-03T06:14:00.166787Z",
     "shell.execute_reply": "2023-06-03T06:14:00.165884Z"
    },
    "papermill": {
     "duration": 0.018788,
     "end_time": "2023-06-03T06:14:00.168751",
     "exception": false,
     "start_time": "2023-06-03T06:14:00.149963",
     "status": "completed"
    },
    "tags": []
   },
   "outputs": [],
   "source": [
    "#dataset path\n",
    "train_path = \"/kaggle/input/brain-tumor-mri-dataset/Training\"\n",
    "test_path = \"/kaggle/input/brain-tumor-mri-dataset/Testing\""
   ]
  },
  {
   "cell_type": "code",
   "execution_count": 16,
   "id": "5247f3f6",
   "metadata": {
    "execution": {
     "iopub.execute_input": "2023-06-03T06:14:00.194796Z",
     "iopub.status.busy": "2023-06-03T06:14:00.194523Z",
     "iopub.status.idle": "2023-06-03T06:14:00.883378Z",
     "shell.execute_reply": "2023-06-03T06:14:00.882303Z"
    },
    "papermill": {
     "duration": 0.704802,
     "end_time": "2023-06-03T06:14:00.885589",
     "exception": false,
     "start_time": "2023-06-03T06:14:00.180787",
     "status": "completed"
    },
    "tags": []
   },
   "outputs": [
    {
     "name": "stdout",
     "output_type": "stream",
     "text": [
      "Train:5712 - Test:1311\n"
     ]
    }
   ],
   "source": [
    "x_train = load_data(train_path)\n",
    "x_test = load_data(test_path)\n",
    "print(f\"Train:{len(x_train)} - Test:{len(x_test)}\")"
   ]
  },
  {
   "cell_type": "code",
   "execution_count": 17,
   "id": "5368f6e2",
   "metadata": {
    "execution": {
     "iopub.execute_input": "2023-06-03T06:14:00.911400Z",
     "iopub.status.busy": "2023-06-03T06:14:00.911098Z",
     "iopub.status.idle": "2023-06-03T06:14:01.036493Z",
     "shell.execute_reply": "2023-06-03T06:14:01.035385Z"
    },
    "papermill": {
     "duration": 0.141356,
     "end_time": "2023-06-03T06:14:01.039227",
     "exception": false,
     "start_time": "2023-06-03T06:14:00.897871",
     "status": "completed"
    },
    "tags": []
   },
   "outputs": [],
   "source": [
    "#tensor dataset\n",
    "train_df = tf_dataset(x_train)\n",
    "test_df = tf_dataset(x_test)"
   ]
  },
  {
   "cell_type": "code",
   "execution_count": 18,
   "id": "3f601d87",
   "metadata": {
    "execution": {
     "iopub.execute_input": "2023-06-03T06:14:01.067009Z",
     "iopub.status.busy": "2023-06-03T06:14:01.066066Z",
     "iopub.status.idle": "2023-06-03T06:23:57.008179Z",
     "shell.execute_reply": "2023-06-03T06:23:57.007124Z"
    },
    "papermill": {
     "duration": 596.073789,
     "end_time": "2023-06-03T06:23:57.125370",
     "exception": false,
     "start_time": "2023-06-03T06:14:01.051581",
     "status": "completed"
    },
    "tags": []
   },
   "outputs": [
    {
     "name": "stdout",
     "output_type": "stream",
     "text": [
      "Epoch 1/15\n",
      "90/90 [==============================] - ETA: 0s - loss: 0.4354 - accuracy: 0.8396\n",
      "Epoch 1: val_loss improved from inf to 0.30596, saving model to vgg16_for_brain_tumor.h5\n",
      "90/90 [==============================] - 80s 716ms/step - loss: 0.4354 - accuracy: 0.8396 - val_loss: 0.3060 - val_accuracy: 0.8932 - lr: 0.0010\n",
      "Epoch 2/15\n",
      "90/90 [==============================] - ETA: 0s - loss: 0.1975 - accuracy: 0.9294\n",
      "Epoch 2: val_loss improved from 0.30596 to 0.21150, saving model to vgg16_for_brain_tumor.h5\n",
      "90/90 [==============================] - 32s 357ms/step - loss: 0.1975 - accuracy: 0.9294 - val_loss: 0.2115 - val_accuracy: 0.9275 - lr: 0.0010\n",
      "Epoch 3/15\n",
      "90/90 [==============================] - ETA: 0s - loss: 0.1365 - accuracy: 0.9527\n",
      "Epoch 3: val_loss improved from 0.21150 to 0.18368, saving model to vgg16_for_brain_tumor.h5\n",
      "90/90 [==============================] - 37s 412ms/step - loss: 0.1365 - accuracy: 0.9527 - val_loss: 0.1837 - val_accuracy: 0.9260 - lr: 0.0010\n",
      "Epoch 4/15\n",
      "90/90 [==============================] - ETA: 0s - loss: 0.0906 - accuracy: 0.9741\n",
      "Epoch 4: val_loss did not improve from 0.18368\n",
      "90/90 [==============================] - 37s 406ms/step - loss: 0.0906 - accuracy: 0.9741 - val_loss: 0.1945 - val_accuracy: 0.9161 - lr: 0.0010\n",
      "Epoch 5/15\n",
      "90/90 [==============================] - ETA: 0s - loss: 0.0693 - accuracy: 0.9841\n",
      "Epoch 5: val_loss improved from 0.18368 to 0.17312, saving model to vgg16_for_brain_tumor.h5\n",
      "90/90 [==============================] - 37s 414ms/step - loss: 0.0693 - accuracy: 0.9841 - val_loss: 0.1731 - val_accuracy: 0.9245 - lr: 0.0010\n",
      "Epoch 6/15\n",
      "90/90 [==============================] - ETA: 0s - loss: 0.0562 - accuracy: 0.9886\n",
      "Epoch 6: val_loss improved from 0.17312 to 0.14781, saving model to vgg16_for_brain_tumor.h5\n",
      "90/90 [==============================] - 37s 413ms/step - loss: 0.0562 - accuracy: 0.9886 - val_loss: 0.1478 - val_accuracy: 0.9336 - lr: 0.0010\n",
      "Epoch 7/15\n",
      "90/90 [==============================] - ETA: 0s - loss: 0.0481 - accuracy: 0.9918\n",
      "Epoch 7: val_loss improved from 0.14781 to 0.12638, saving model to vgg16_for_brain_tumor.h5\n",
      "90/90 [==============================] - 32s 359ms/step - loss: 0.0481 - accuracy: 0.9918 - val_loss: 0.1264 - val_accuracy: 0.9436 - lr: 0.0010\n",
      "Epoch 8/15\n",
      "90/90 [==============================] - ETA: 0s - loss: 0.0438 - accuracy: 0.9918\n",
      "Epoch 8: val_loss improved from 0.12638 to 0.10580, saving model to vgg16_for_brain_tumor.h5\n",
      "90/90 [==============================] - 37s 411ms/step - loss: 0.0438 - accuracy: 0.9918 - val_loss: 0.1058 - val_accuracy: 0.9588 - lr: 0.0010\n",
      "Epoch 9/15\n",
      "90/90 [==============================] - ETA: 0s - loss: 0.0428 - accuracy: 0.9904\n",
      "Epoch 9: val_loss improved from 0.10580 to 0.10568, saving model to vgg16_for_brain_tumor.h5\n",
      "90/90 [==============================] - 37s 406ms/step - loss: 0.0428 - accuracy: 0.9904 - val_loss: 0.1057 - val_accuracy: 0.9634 - lr: 0.0010\n",
      "Epoch 10/15\n",
      "90/90 [==============================] - ETA: 0s - loss: 0.0458 - accuracy: 0.9865\n",
      "Epoch 10: val_loss did not improve from 0.10568\n",
      "90/90 [==============================] - 37s 407ms/step - loss: 0.0458 - accuracy: 0.9865 - val_loss: 0.1426 - val_accuracy: 0.9550 - lr: 0.0010\n",
      "Epoch 11/15\n",
      "90/90 [==============================] - ETA: 0s - loss: 0.0421 - accuracy: 0.9867\n",
      "Epoch 11: val_loss did not improve from 0.10568\n",
      "90/90 [==============================] - 32s 359ms/step - loss: 0.0421 - accuracy: 0.9867 - val_loss: 0.3013 - val_accuracy: 0.9085 - lr: 0.0010\n",
      "Epoch 12/15\n",
      "90/90 [==============================] - ETA: 0s - loss: 0.0369 - accuracy: 0.9886\n",
      "Epoch 12: val_loss improved from 0.10568 to 0.09583, saving model to vgg16_for_brain_tumor.h5\n",
      "90/90 [==============================] - 37s 409ms/step - loss: 0.0369 - accuracy: 0.9886 - val_loss: 0.0958 - val_accuracy: 0.9664 - lr: 0.0010\n",
      "Epoch 13/15\n",
      "90/90 [==============================] - ETA: 0s - loss: 0.0263 - accuracy: 0.9932\n",
      "Epoch 13: val_loss improved from 0.09583 to 0.08638, saving model to vgg16_for_brain_tumor.h5\n",
      "90/90 [==============================] - 37s 411ms/step - loss: 0.0263 - accuracy: 0.9932 - val_loss: 0.0864 - val_accuracy: 0.9680 - lr: 0.0010\n",
      "Epoch 14/15\n",
      "90/90 [==============================] - ETA: 0s - loss: 0.0187 - accuracy: 0.9967\n",
      "Epoch 14: val_loss did not improve from 0.08638\n",
      "90/90 [==============================] - 37s 410ms/step - loss: 0.0187 - accuracy: 0.9967 - val_loss: 0.0949 - val_accuracy: 0.9695 - lr: 0.0010\n",
      "Epoch 15/15\n",
      "90/90 [==============================] - ETA: 0s - loss: 0.0181 - accuracy: 0.9970\n",
      "Epoch 15: val_loss did not improve from 0.08638\n",
      "90/90 [==============================] - 32s 354ms/step - loss: 0.0181 - accuracy: 0.9970 - val_loss: 0.1163 - val_accuracy: 0.9672 - lr: 0.0010\n"
     ]
    },
    {
     "data": {
      "text/plain": [
       "<keras.callbacks.History at 0x7d8070284610>"
      ]
     },
     "execution_count": 18,
     "metadata": {},
     "output_type": "execute_result"
    }
   ],
   "source": [
    "model.fit(\n",
    "    train_df,\n",
    "    validation_data=test_df,\n",
    "    epochs=15,\n",
    "    batch_size=64,\n",
    "    callbacks=callbacks\n",
    ")"
   ]
  },
  {
   "cell_type": "code",
   "execution_count": 19,
   "id": "a0cd913f",
   "metadata": {
    "execution": {
     "iopub.execute_input": "2023-06-03T06:23:57.360269Z",
     "iopub.status.busy": "2023-06-03T06:23:57.359914Z",
     "iopub.status.idle": "2023-06-03T06:24:07.609081Z",
     "shell.execute_reply": "2023-06-03T06:24:07.608187Z"
    },
    "papermill": {
     "duration": 10.367224,
     "end_time": "2023-06-03T06:24:07.611240",
     "exception": false,
     "start_time": "2023-06-03T06:23:57.244016",
     "status": "completed"
    },
    "tags": []
   },
   "outputs": [
    {
     "name": "stdout",
     "output_type": "stream",
     "text": [
      "21/21 [==============================] - 6s 261ms/step - loss: 0.1163 - accuracy: 0.9672\n"
     ]
    },
    {
     "data": {
      "text/plain": [
       "[0.11628718674182892, 0.9672006368637085]"
      ]
     },
     "execution_count": 19,
     "metadata": {},
     "output_type": "execute_result"
    }
   ],
   "source": [
    "model.evaluate(test_df)"
   ]
  },
  {
   "cell_type": "markdown",
   "id": "07e98be1",
   "metadata": {
    "papermill": {
     "duration": 0.114868,
     "end_time": "2023-06-03T06:24:07.840556",
     "exception": false,
     "start_time": "2023-06-03T06:24:07.725688",
     "status": "completed"
    },
    "tags": []
   },
   "source": [
    "# XAI"
   ]
  },
  {
   "cell_type": "markdown",
   "id": "6381c21f",
   "metadata": {
    "papermill": {
     "duration": 0.115086,
     "end_time": "2023-06-03T06:24:08.070780",
     "exception": false,
     "start_time": "2023-06-03T06:24:07.955694",
     "status": "completed"
    },
    "tags": []
   },
   "source": [
    "## Explaining the prediction"
   ]
  },
  {
   "cell_type": "code",
   "execution_count": 20,
   "id": "ed50e1a1",
   "metadata": {
    "execution": {
     "iopub.execute_input": "2023-06-03T06:24:08.303008Z",
     "iopub.status.busy": "2023-06-03T06:24:08.302358Z",
     "iopub.status.idle": "2023-06-03T06:24:09.228276Z",
     "shell.execute_reply": "2023-06-03T06:24:09.227299Z"
    },
    "papermill": {
     "duration": 1.044168,
     "end_time": "2023-06-03T06:24:09.230831",
     "exception": false,
     "start_time": "2023-06-03T06:24:08.186663",
     "status": "completed"
    },
    "tags": []
   },
   "outputs": [],
   "source": [
    "from lime import lime_image\n",
    "from skimage.segmentation import mark_boundaries"
   ]
  },
  {
   "cell_type": "code",
   "execution_count": 21,
   "id": "bd728b74",
   "metadata": {
    "execution": {
     "iopub.execute_input": "2023-06-03T06:24:09.470774Z",
     "iopub.status.busy": "2023-06-03T06:24:09.470438Z",
     "iopub.status.idle": "2023-06-03T06:24:09.476107Z",
     "shell.execute_reply": "2023-06-03T06:24:09.475223Z"
    },
    "papermill": {
     "duration": 0.128193,
     "end_time": "2023-06-03T06:24:09.478283",
     "exception": false,
     "start_time": "2023-06-03T06:24:09.350090",
     "status": "completed"
    },
    "tags": []
   },
   "outputs": [],
   "source": [
    "#preprocess function\n",
    "def process_img(path):\n",
    "    #read image\n",
    "    image = cv2.imread(path, cv2.IMREAD_COLOR)\n",
    "    #resize the image\n",
    "    image = cv2.resize(image, [224, 224])\n",
    "    #scale the image\n",
    "    image = image / 255.0\n",
    "    #change the data type of image\n",
    "    image = image.astype(np.float32)\n",
    "    \n",
    "    return image"
   ]
  },
  {
   "cell_type": "code",
   "execution_count": 22,
   "id": "761a0238",
   "metadata": {
    "execution": {
     "iopub.execute_input": "2023-06-03T06:24:09.754705Z",
     "iopub.status.busy": "2023-06-03T06:24:09.754314Z",
     "iopub.status.idle": "2023-06-03T06:24:10.115345Z",
     "shell.execute_reply": "2023-06-03T06:24:10.114407Z"
    },
    "papermill": {
     "duration": 0.524012,
     "end_time": "2023-06-03T06:24:10.118653",
     "exception": false,
     "start_time": "2023-06-03T06:24:09.594641",
     "status": "completed"
    },
    "tags": []
   },
   "outputs": [
    {
     "data": {
      "image/png": "[encoded data removed]",
      "text/plain": [
       "<Figure size 640x480 with 1 Axes>"
      ]
     },
     "metadata": {},
     "output_type": "display_data"
    }
   ],
   "source": [
    "path = \"/kaggle/input/brain-tumor-mri-dataset/Testing/pituitary/Te-pi_0018.jpg\"\n",
    "img = cv2.imread(path, cv2.IMREAD_GRAYSCALE)\n",
    "plt.imshow(img)\n",
    "image = process_img(path)"
   ]
  },
  {
   "cell_type": "code",
   "execution_count": 23,
   "id": "9fa7d950",
   "metadata": {
    "execution": {
     "iopub.execute_input": "2023-06-03T06:24:10.360044Z",
     "iopub.status.busy": "2023-06-03T06:24:10.359693Z",
     "iopub.status.idle": "2023-06-03T06:24:11.183919Z",
     "shell.execute_reply": "2023-06-03T06:24:11.182735Z"
    },
    "papermill": {
     "duration": 0.944454,
     "end_time": "2023-06-03T06:24:11.185945",
     "exception": false,
     "start_time": "2023-06-03T06:24:10.241491",
     "status": "completed"
    },
    "tags": []
   },
   "outputs": [
    {
     "name": "stdout",
     "output_type": "stream",
     "text": [
      "1/1 [==============================] - 1s 751ms/step\n",
      "pituitary\n"
     ]
    }
   ],
   "source": [
    "image = image.reshape(1, 224, 224, 3)\n",
    "#prediction\n",
    "prediction = model.predict(image)\n",
    "final = np.argmax(prediction)\n",
    "classi = class_names[final]\n",
    "print(classi)"
   ]
  },
  {
   "cell_type": "code",
   "execution_count": 24,
   "id": "91ec1c31",
   "metadata": {
    "execution": {
     "iopub.execute_input": "2023-06-03T06:24:11.426453Z",
     "iopub.status.busy": "2023-06-03T06:24:11.426065Z",
     "iopub.status.idle": "2023-06-03T06:24:11.431170Z",
     "shell.execute_reply": "2023-06-03T06:24:11.430308Z"
    },
    "papermill": {
     "duration": 0.127227,
     "end_time": "2023-06-03T06:24:11.433302",
     "exception": false,
     "start_time": "2023-06-03T06:24:11.306075",
     "status": "completed"
    },
    "tags": []
   },
   "outputs": [],
   "source": [
    "#load explainer\n",
    "explainer = lime_image.LimeImageExplainer()"
   ]
  },
  {
   "cell_type": "code",
   "execution_count": 25,
   "id": "6341f1b8",
   "metadata": {
    "execution": {
     "iopub.execute_input": "2023-06-03T06:24:11.671814Z",
     "iopub.status.busy": "2023-06-03T06:24:11.671476Z",
     "iopub.status.idle": "2023-06-03T06:24:11.690947Z",
     "shell.execute_reply": "2023-06-03T06:24:11.689717Z"
    },
    "papermill": {
     "duration": 0.140675,
     "end_time": "2023-06-03T06:24:11.693140",
     "exception": false,
     "start_time": "2023-06-03T06:24:11.552465",
     "status": "completed"
    },
    "tags": []
   },
   "outputs": [
    {
     "data": {
      "text/plain": [
       "(224, 224)"
      ]
     },
     "execution_count": 25,
     "metadata": {},
     "output_type": "execute_result"
    }
   ],
   "source": [
    "#read image and convert into 2D\n",
    "tem = cv2.imread(path)\n",
    "tem = cv2.resize(tem, [224,224])\n",
    "gray_img = cv2.cvtColor(tem, cv2.COLOR_BGR2GRAY)\n",
    "gray_img.shape"
   ]
  },
  {
   "cell_type": "code",
   "execution_count": 26,
   "id": "8e9bb8e6",
   "metadata": {
    "execution": {
     "iopub.execute_input": "2023-06-03T06:24:11.928274Z",
     "iopub.status.busy": "2023-06-03T06:24:11.927955Z",
     "iopub.status.idle": "2023-06-03T06:24:28.821001Z",
     "shell.execute_reply": "2023-06-03T06:24:28.819208Z"
    },
    "papermill": {
     "duration": 17.014697,
     "end_time": "2023-06-03T06:24:28.824771",
     "exception": false,
     "start_time": "2023-06-03T06:24:11.810074",
     "status": "completed"
    },
    "tags": []
   },
   "outputs": [
    {
     "data": {
      "application/vnd.jupyter.widget-view+json": {
       "model_id": "912d1c3d72784928b24649aab20a5d0d",
       "version_major": 2,
       "version_minor": 0
      },
      "text/plain": [
       "  0%|          | 0/1000 [00:00<?, ?it/s]"
      ]
     },
     "metadata": {},
     "output_type": "display_data"
    },
    {
     "name": "stdout",
     "output_type": "stream",
     "text": [
      "1/1 [==============================] - 2s 2s/step\n",
      "1/1 [==============================] - 0s 22ms/step\n",
      "1/1 [==============================] - 0s 25ms/step\n",
      "1/1 [==============================] - 0s 22ms/step\n",
      "1/1 [==============================] - 0s 24ms/step\n",
      "1/1 [==============================] - 0s 24ms/step\n",
      "1/1 [==============================] - 0s 23ms/step\n",
      "1/1 [==============================] - 0s 24ms/step\n",
      "1/1 [==============================] - 0s 23ms/step\n",
      "1/1 [==============================] - 0s 23ms/step\n",
      "1/1 [==============================] - 0s 25ms/step\n",
      "1/1 [==============================] - 0s 23ms/step\n",
      "1/1 [==============================] - 0s 23ms/step\n",
      "1/1 [==============================] - 0s 22ms/step\n",
      "1/1 [==============================] - 0s 25ms/step\n",
      "1/1 [==============================] - 0s 22ms/step\n",
      "1/1 [==============================] - 0s 25ms/step\n",
      "1/1 [==============================] - 0s 22ms/step\n",
      "1/1 [==============================] - 0s 24ms/step\n",
      "1/1 [==============================] - 0s 23ms/step\n",
      "1/1 [==============================] - 0s 25ms/step\n",
      "1/1 [==============================] - 0s 23ms/step\n",
      "1/1 [==============================] - 0s 25ms/step\n",
      "1/1 [==============================] - 0s 25ms/step\n",
      "1/1 [==============================] - 0s 22ms/step\n",
      "1/1 [==============================] - 0s 23ms/step\n",
      "1/1 [==============================] - 0s 25ms/step\n",
      "1/1 [==============================] - 0s 22ms/step\n",
      "1/1 [==============================] - 0s 22ms/step\n",
      "1/1 [==============================] - 0s 38ms/step\n",
      "1/1 [==============================] - 0s 22ms/step\n",
      "1/1 [==============================] - 0s 25ms/step\n",
      "1/1 [==============================] - 0s 23ms/step\n",
      "1/1 [==============================] - 0s 22ms/step\n",
      "1/1 [==============================] - 0s 24ms/step\n",
      "1/1 [==============================] - 0s 24ms/step\n",
      "1/1 [==============================] - 0s 23ms/step\n",
      "1/1 [==============================] - 0s 23ms/step\n",
      "1/1 [==============================] - 0s 26ms/step\n",
      "1/1 [==============================] - 0s 26ms/step\n",
      "1/1 [==============================] - 0s 24ms/step\n",
      "1/1 [==============================] - 0s 22ms/step\n",
      "1/1 [==============================] - 0s 22ms/step\n",
      "1/1 [==============================] - 0s 23ms/step\n",
      "1/1 [==============================] - 0s 23ms/step\n",
      "1/1 [==============================] - 0s 23ms/step\n",
      "1/1 [==============================] - 0s 24ms/step\n",
      "1/1 [==============================] - 0s 22ms/step\n",
      "1/1 [==============================] - 0s 25ms/step\n",
      "1/1 [==============================] - 0s 22ms/step\n",
      "1/1 [==============================] - 0s 24ms/step\n",
      "1/1 [==============================] - 0s 23ms/step\n",
      "1/1 [==============================] - 0s 26ms/step\n",
      "1/1 [==============================] - 0s 23ms/step\n",
      "1/1 [==============================] - 0s 23ms/step\n",
      "1/1 [==============================] - 0s 22ms/step\n",
      "1/1 [==============================] - 0s 22ms/step\n",
      "1/1 [==============================] - 0s 23ms/step\n",
      "1/1 [==============================] - 0s 24ms/step\n",
      "1/1 [==============================] - 0s 23ms/step\n",
      "1/1 [==============================] - 0s 22ms/step\n",
      "1/1 [==============================] - 0s 24ms/step\n",
      "1/1 [==============================] - 0s 24ms/step\n",
      "1/1 [==============================] - 0s 23ms/step\n",
      "1/1 [==============================] - 0s 22ms/step\n",
      "1/1 [==============================] - 0s 23ms/step\n",
      "1/1 [==============================] - 0s 22ms/step\n",
      "1/1 [==============================] - 0s 22ms/step\n",
      "1/1 [==============================] - 0s 22ms/step\n",
      "1/1 [==============================] - 0s 46ms/step\n",
      "1/1 [==============================] - 0s 32ms/step\n",
      "1/1 [==============================] - 0s 34ms/step\n",
      "1/1 [==============================] - 0s 34ms/step\n",
      "1/1 [==============================] - 0s 30ms/step\n",
      "1/1 [==============================] - 0s 32ms/step\n",
      "1/1 [==============================] - 0s 36ms/step\n",
      "1/1 [==============================] - 0s 35ms/step\n",
      "1/1 [==============================] - 0s 22ms/step\n",
      "1/1 [==============================] - 0s 22ms/step\n",
      "1/1 [==============================] - 0s 23ms/step\n",
      "1/1 [==============================] - 0s 23ms/step\n",
      "1/1 [==============================] - 0s 26ms/step\n",
      "1/1 [==============================] - 0s 22ms/step\n",
      "1/1 [==============================] - 0s 23ms/step\n",
      "1/1 [==============================] - 0s 23ms/step\n",
      "1/1 [==============================] - 0s 22ms/step\n",
      "1/1 [==============================] - 0s 22ms/step\n",
      "1/1 [==============================] - 0s 26ms/step\n",
      "1/1 [==============================] - 0s 24ms/step\n",
      "1/1 [==============================] - 0s 24ms/step\n",
      "1/1 [==============================] - 0s 23ms/step\n",
      "1/1 [==============================] - 0s 22ms/step\n",
      "1/1 [==============================] - 0s 24ms/step\n",
      "1/1 [==============================] - 0s 22ms/step\n",
      "1/1 [==============================] - 0s 22ms/step\n",
      "1/1 [==============================] - 0s 23ms/step\n",
      "1/1 [==============================] - 0s 22ms/step\n",
      "1/1 [==============================] - 0s 23ms/step\n",
      "1/1 [==============================] - 0s 24ms/step\n",
      "1/1 [==============================] - 0s 23ms/step\n"
     ]
    }
   ],
   "source": [
    "explanation = explainer.explain_instance(gray_img.astype('double'), model.predict, top_labels=4, hide_color=0, num_samples=1000)"
   ]
  },
  {
   "cell_type": "code",
   "execution_count": 27,
   "id": "c79498c2",
   "metadata": {
    "execution": {
     "iopub.execute_input": "2023-06-03T06:24:29.189316Z",
     "iopub.status.busy": "2023-06-03T06:24:29.188965Z",
     "iopub.status.idle": "2023-06-03T06:24:29.548156Z",
     "shell.execute_reply": "2023-06-03T06:24:29.546719Z"
    },
    "papermill": {
     "duration": 0.496259,
     "end_time": "2023-06-03T06:24:29.551137",
     "exception": false,
     "start_time": "2023-06-03T06:24:29.054878",
     "status": "completed"
    },
    "tags": []
   },
   "outputs": [
    {
     "data": {
      "text/plain": [
       "<matplotlib.image.AxesImage at 0x7d7ff050efb0>"
      ]
     },
     "execution_count": 27,
     "metadata": {},
     "output_type": "execute_result"
    },
    {
     "data": {
      "image/png": "[encoded data removed]",
      "text/plain": [
       "<Figure size 640x480 with 1 Axes>"
      ]
     },
     "metadata": {},
     "output_type": "display_data"
    }
   ],
   "source": [
    "#plot the explantion\n",
    "temp, mask = explanation.get_image_and_mask(explanation.top_labels[0], positive_only=True, num_features=5, hide_rest=False)\n",
    "plt.imshow(mark_boundaries(temp / 2 + 0.5, mask), interpolation='nearest')"
   ]
  },
  {
   "cell_type": "code",
   "execution_count": null,
   "id": "80a50e4a",
   "metadata": {
    "papermill": {
     "duration": 0.132004,
     "end_time": "2023-06-03T06:24:29.834521",
     "exception": false,
     "start_time": "2023-06-03T06:24:29.702517",
     "status": "completed"
    },
    "tags": []
   },
   "outputs": [],
   "source": []
  }
 ],
 "metadata": {
  "kernelspec": {
   "display_name": "Python 3",
   "language": "python",
   "name": "python3"
  },
  "language_info": {
   "codemirror_mode": {
    "name": "ipython",
    "version": 3
   },
   "file_extension": ".py",
   "mimetype": "text/x-python",
   "name": "python",
   "nbconvert_exporter": "python",
   "pygments_lexer": "ipython3",
   "version": "3.10.10"
  },
  "papermill": {
   "default_parameters": {},
   "duration": 661.214207,
   "end_time": "2023-06-03T06:24:33.550549",
   "environment_variables": {},
   "exception": null,
   "input_path": "__notebook__.ipynb",
   "output_path": "__notebook__.ipynb",
   "parameters": {},
   "start_time": "2023-06-03T06:13:32.336342",
   "version": "2.4.0"
  },
  "widgets": {
   "application/vnd.jupyter.widget-state+json": {
    "state": {
     "03cbfa7045344d9e8074997063d4a672": {
      "model_module": "@jupyter-widgets/base",
      "model_module_version": "1.2.0",
      "model_name": "LayoutModel",
      "state": {
       "_model_module": "@jupyter-widgets/base",
       "_model_module_version": "1.2.0",
       "_model_name": "LayoutModel",
       "_view_count": null,
       "_view_module": "@jupyter-widgets/base",
       "_view_module_version": "1.2.0",
       "_view_name": "LayoutView",
       "align_content": null,
       "align_items": null,
       "align_self": null,
       "border": null,
       "bottom": null,
       "display": null,
       "flex": null,
       "flex_flow": null,
       "grid_area": null,
       "grid_auto_columns": null,
       "grid_auto_flow": null,
       "grid_auto_rows": null,
       "grid_column": null,
       "grid_gap": null,
       "grid_row": null,
       "grid_template_areas": null,
       "grid_template_columns": null,
       "grid_template_rows": null,
       "height": null,
       "justify_content": null,
       "justify_items": null,
       "left": null,
       "margin": null,
       "max_height": null,
       "max_width": null,
       "min_height": null,
       "min_width": null,
       "object_fit": null,
       "object_position": null,
       "order": null,
       "overflow": null,
       "overflow_x": null,
       "overflow_y": null,
       "padding": null,
       "right": null,
       "top": null,
       "visibility": null,
       "width": null
      }
     },
     "0d92f44eff8d49dba3bf112dc6574b51": {
      "model_module": "@jupyter-widgets/controls",
      "model_module_version": "1.5.0",
      "model_name": "DescriptionStyleModel",
      "state": {
       "_model_module": "@jupyter-widgets/controls",
       "_model_module_version": "1.5.0",
       "_model_name": "DescriptionStyleModel",
       "_view_count": null,
       "_view_module": "@jupyter-widgets/base",
       "_view_module_version": "1.2.0",
       "_view_name": "StyleView",
       "description_width": ""
      }
     },
     "28c0a436fee046b490dc4a14d70c54b2": {
      "model_module": "@jupyter-widgets/base",
      "model_module_version": "1.2.0",
      "model_name": "LayoutModel",
      "state": {
       "_model_module": "@jupyter-widgets/base",
       "_model_module_version": "1.2.0",
       "_model_name": "LayoutModel",
       "_view_count": null,
       "_view_module": "@jupyter-widgets/base",
       "_view_module_version": "1.2.0",
       "_view_name": "LayoutView",
       "align_content": null,
       "align_items": null,
       "align_self": null,
       "border": null,
       "bottom": null,
       "display": null,
       "flex": null,
       "flex_flow": null,
       "grid_area": null,
       "grid_auto_columns": null,
       "grid_auto_flow": null,
       "grid_auto_rows": null,
       "grid_column": null,
       "grid_gap": null,
       "grid_row": null,
       "grid_template_areas": null,
       "grid_template_columns": null,
       "grid_template_rows": null,
       "height": null,
       "justify_content": null,
       "justify_items": null,
       "left": null,
       "margin": null,
       "max_height": null,
       "max_width": null,
       "min_height": null,
       "min_width": null,
       "object_fit": null,
       "object_position": null,
       "order": null,
       "overflow": null,
       "overflow_x": null,
       "overflow_y": null,
       "padding": null,
       "right": null,
       "top": null,
       "visibility": null,
       "width": null
      }
     },
     "299a047ba8e141c08c3853592c52893c": {
      "model_module": "@jupyter-widgets/base",
      "model_module_version": "1.2.0",
      "model_name": "LayoutModel",
      "state": {
       "_model_module": "@jupyter-widgets/base",
       "_model_module_version": "1.2.0",
       "_model_name": "LayoutModel",
       "_view_count": null,
       "_view_module": "@jupyter-widgets/base",
       "_view_module_version": "1.2.0",
       "_view_name": "LayoutView",
       "align_content": null,
       "align_items": null,
       "align_self": null,
       "border": null,
       "bottom": null,
       "display": null,
       "flex": null,
       "flex_flow": null,
       "grid_area": null,
       "grid_auto_columns": null,
       "grid_auto_flow": null,
       "grid_auto_rows": null,
       "grid_column": null,
       "grid_gap": null,
       "grid_row": null,
       "grid_template_areas": null,
       "grid_template_columns": null,
       "grid_template_rows": null,
       "height": null,
       "justify_content": null,
       "justify_items": null,
       "left": null,
       "margin": null,
       "max_height": null,
       "max_width": null,
       "min_height": null,
       "min_width": null,
       "object_fit": null,
       "object_position": null,
       "order": null,
       "overflow": null,
       "overflow_x": null,
       "overflow_y": null,
       "padding": null,
       "right": null,
       "top": null,
       "visibility": null,
       "width": null
      }
     },
     "4e61cd156cdd4e82ac4a3216336bf020": {
      "model_module": "@jupyter-widgets/controls",
      "model_module_version": "1.5.0",
      "model_name": "HTMLModel",
      "state": {
       "_dom_classes": [],
       "_model_module": "@jupyter-widgets/controls",
       "_model_module_version": "1.5.0",
       "_model_name": "HTMLModel",
       "_view_count": null,
       "_view_module": "@jupyter-widgets/controls",
       "_view_module_version": "1.5.0",
       "_view_name": "HTMLView",
       "description": "",
       "description_tooltip": null,
       "layout": "IPY_MODEL_03cbfa7045344d9e8074997063d4a672",
       "placeholder": "​",
       "style": "IPY_MODEL_0d92f44eff8d49dba3bf112dc6574b51",
       "value": " 1000/1000 [00:16&lt;00:00, 70.09it/s]"
      }
     },
     "4ff1a3b52c8d4a82b64c033c85be4802": {
      "model_module": "@jupyter-widgets/controls",
      "model_module_version": "1.5.0",
      "model_name": "ProgressStyleModel",
      "state": {
       "_model_module": "@jupyter-widgets/controls",
       "_model_module_version": "1.5.0",
       "_model_name": "ProgressStyleModel",
       "_view_count": null,
       "_view_module": "@jupyter-widgets/base",
       "_view_module_version": "1.2.0",
       "_view_name": "StyleView",
       "bar_color": null,
       "description_width": ""
      }
     },
     "8747c909a10d423582ebdc0fadfa4879": {
      "model_module": "@jupyter-widgets/controls",
      "model_module_version": "1.5.0",
      "model_name": "FloatProgressModel",
      "state": {
       "_dom_classes": [],
       "_model_module": "@jupyter-widgets/controls",
       "_model_module_version": "1.5.0",
       "_model_name": "FloatProgressModel",
       "_view_count": null,
       "_view_module": "@jupyter-widgets/controls",
       "_view_module_version": "1.5.0",
       "_view_name": "ProgressView",
       "bar_style": "success",
       "description": "",
       "description_tooltip": null,
       "layout": "IPY_MODEL_8dd8e5d26bf24517ba9a9a618019988c",
       "max": 1000.0,
       "min": 0.0,
       "orientation": "horizontal",
       "style": "IPY_MODEL_4ff1a3b52c8d4a82b64c033c85be4802",
       "value": 1000.0
      }
     },
     "8dd8e5d26bf24517ba9a9a618019988c": {
      "model_module": "@jupyter-widgets/base",
      "model_module_version": "1.2.0",
      "model_name": "LayoutModel",
      "state": {
       "_model_module": "@jupyter-widgets/base",
       "_model_module_version": "1.2.0",
       "_model_name": "LayoutModel",
       "_view_count": null,
       "_view_module": "@jupyter-widgets/base",
       "_view_module_version": "1.2.0",
       "_view_name": "LayoutView",
       "align_content": null,
       "align_items": null,
       "align_self": null,
       "border": null,
       "bottom": null,
       "display": null,
       "flex": null,
       "flex_flow": null,
       "grid_area": null,
       "grid_auto_columns": null,
       "grid_auto_flow": null,
       "grid_auto_rows": null,
       "grid_column": null,
       "grid_gap": null,
       "grid_row": null,
       "grid_template_areas": null,
       "grid_template_columns": null,
       "grid_template_rows": null,
       "height": null,
       "justify_content": null,
       "justify_items": null,
       "left": null,
       "margin": null,
       "max_height": null,
       "max_width": null,
       "min_height": null,
       "min_width": null,
       "object_fit": null,
       "object_position": null,
       "order": null,
       "overflow": null,
       "overflow_x": null,
       "overflow_y": null,
       "padding": null,
       "right": null,
       "top": null,
       "visibility": null,
       "width": null
      }
     },
     "912d1c3d72784928b24649aab20a5d0d": {
      "model_module": "@jupyter-widgets/controls",
      "model_module_version": "1.5.0",
      "model_name": "HBoxModel",
      "state": {
       "_dom_classes": [],
       "_model_module": "@jupyter-widgets/controls",
       "_model_module_version": "1.5.0",
       "_model_name": "HBoxModel",
       "_view_count": null,
       "_view_module": "@jupyter-widgets/controls",
       "_view_module_version": "1.5.0",
       "_view_name": "HBoxView",
       "box_style": "",
       "children": [
        "IPY_MODEL_b3c924790d9843b1a6fe9008ac9bba95",
        "IPY_MODEL_8747c909a10d423582ebdc0fadfa4879",
        "IPY_MODEL_4e61cd156cdd4e82ac4a3216336bf020"
       ],
       "layout": "IPY_MODEL_28c0a436fee046b490dc4a14d70c54b2"
      }
     },
     "9cf8ef6114bd4873801900d0398b057c": {
      "model_module": "@jupyter-widgets/controls",
      "model_module_version": "1.5.0",
      "model_name": "DescriptionStyleModel",
      "state": {
       "_model_module": "@jupyter-widgets/controls",
       "_model_module_version": "1.5.0",
       "_model_name": "DescriptionStyleModel",
       "_view_count": null,
       "_view_module": "@jupyter-widgets/base",
       "_view_module_version": "1.2.0",
       "_view_name": "StyleView",
       "description_width": ""
      }
     },
     "b3c924790d9843b1a6fe9008ac9bba95": {
      "model_module": "@jupyter-widgets/controls",
      "model_module_version": "1.5.0",
      "model_name": "HTMLModel",
      "state": {
       "_dom_classes": [],
       "_model_module": "@jupyter-widgets/controls",
       "_model_module_version": "1.5.0",
       "_model_name": "HTMLModel",
       "_view_count": null,
       "_view_module": "@jupyter-widgets/controls",
       "_view_module_version": "1.5.0",
       "_view_name": "HTMLView",
       "description": "",
       "description_tooltip": null,
       "layout": "IPY_MODEL_299a047ba8e141c08c3853592c52893c",
       "placeholder": "​",
       "style": "IPY_MODEL_9cf8ef6114bd4873801900d0398b057c",
       "value": "100%"
      }
     }
    },
    "version_major": 2,
    "version_minor": 0
   }
  }
 },
 "nbformat": 4,
 "nbformat_minor": 5
}
