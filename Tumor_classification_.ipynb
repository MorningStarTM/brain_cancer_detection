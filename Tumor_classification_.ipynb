{
  "cells": [
    {
      "cell_type": "markdown",
      "metadata": {
        "id": "view-in-github",
        "colab_type": "text"
      },
      "source": [
        "<a href=\"https://colab.research.google.com/github/MorningStarTM/brain_cancer_detection/blob/main/Tumor_classification_.ipynb\" target=\"_parent\"><img src=\"https://colab.research.google.com/assets/colab-badge.svg\" alt=\"Open In Colab\"/></a>"
      ]
    },
    {
      "cell_type": "code",
      "execution_count": 1,
      "metadata": {
        "id": "dthQn83Z2kPE"
      },
      "outputs": [],
      "source": [
        "import os\n",
        "import cv2\n",
        "import itertools\n",
        "import numpy as np\n",
        "import matplotlib.pyplot as plt\n",
        "import tensorflow as tf\n",
        "from sklearn.utils import shuffle\n",
        "from glob import glob\n",
        "from tensorflow.keras.layers import*\n",
        "from tensorflow.keras.models import Model\n",
        "from tensorflow.keras.callbacks import*\n",
        "from sklearn.model_selection import train_test_split\n",
        "from sklearn import metrics\n",
        "from sklearn.metrics import confusion_matrix"
      ]
    },
    {
      "cell_type": "code",
      "execution_count": 2,
      "metadata": {
        "id": "T4teVOGM3Am1"
      },
      "outputs": [],
      "source": [
        "#parameters\n",
        "HEIGHT, WIDTH = 224, 224\n",
        "CHANNEL = 3\n",
        "num_class = 3\n",
        "batch_size = 64\n",
        "class_names = [\"glioma\", \"meningioma\", \"notumor\", \"pituitary\"]"
      ]
    },
    {
      "cell_type": "markdown",
      "metadata": {
        "id": "HnnXioXJ3LOH"
      },
      "source": [
        "#Data Pipeline"
      ]
    },
    {
      "cell_type": "code",
      "execution_count": 3,
      "metadata": {
        "id": "Ox2OTSKc3Jvb"
      },
      "outputs": [],
      "source": [
        "def load_data(path, split=0.1):\n",
        "    images = shuffle(glob(os.path.join(path, \"*\", \"*.jpg\")))\n",
        "    \n",
        "    #size of split \n",
        "    split_size = int(len(images) * split)\n",
        "\n",
        "    #split the data\n",
        "    train_data, valid_data = train_test_split(images, test_size=split_size, random_state=42)\n",
        "    train_data, test_data = train_test_split(train_data, test_size=split_size, random_state=42)\n",
        "\n",
        "    return train_data, valid_data, test_data "
      ]
    },
    {
      "cell_type": "code",
      "execution_count": 4,
      "metadata": {
        "id": "uZB1usmn3SKW"
      },
      "outputs": [],
      "source": [
        "#process the image\n",
        "def process_image(path):\n",
        "    #decode the path\n",
        "    path = path.decode()\n",
        "    #read image\n",
        "    image = cv2.imread(path, cv2.IMREAD_COLOR)\n",
        "    #resize the image\n",
        "    image = cv2.resize(image, [224, 224])\n",
        "    #scale the image\n",
        "    image = image / 255.0\n",
        "    #change the data type of image\n",
        "    image = image.astype(np.float32)\n",
        "\n",
        "    #labeling the image\n",
        "    class_name = path.split(\"/\")[-2]\n",
        "    class_idx = class_names.index(class_name)\n",
        "    class_idx = np.array(class_idx, dtype=np.int32)\n",
        "\n",
        "    return image, class_idx"
      ]
    },
    {
      "cell_type": "code",
      "execution_count": 5,
      "metadata": {
        "id": "CyncemCa3Vld"
      },
      "outputs": [],
      "source": [
        "def parse(path):\n",
        "    image, labels = tf.numpy_function(process_image, [path], (tf.float32, tf.int32))\n",
        "    labels = tf.one_hot(labels, 4)\n",
        "    image.set_shape([224, 224, 3])\n",
        "    labels.set_shape(4)\n",
        "  \n",
        "    return image, labels"
      ]
    },
    {
      "cell_type": "code",
      "execution_count": 6,
      "metadata": {
        "id": "Cgt4wkoX3X_V"
      },
      "outputs": [],
      "source": [
        "#tensorflow dataset\n",
        "def tf_dataset(images, batch=8):\n",
        "    dataset = tf.data.Dataset.from_tensor_slices((images))\n",
        "    dataset = dataset.map(parse)\n",
        "    dataset = dataset.batch(batch_size)\n",
        "    dataset = dataset.prefetch(2)\n",
        "    return dataset"
      ]
    },
    {
      "cell_type": "markdown",
      "metadata": {
        "id": "QLg-_DiG3a88"
      },
      "source": [
        "#Model"
      ]
    },
    {
      "cell_type": "code",
      "execution_count": 7,
      "metadata": {
        "id": "dErEI4Hw3ZYl"
      },
      "outputs": [],
      "source": [
        "#input layer\n",
        "inputs = Input(shape=(WIDTH, HEIGHT, CHANNEL))"
      ]
    },
    {
      "cell_type": "code",
      "execution_count": 8,
      "metadata": {
        "id": "DKGGELmz3cPs"
      },
      "outputs": [],
      "source": [
        "#convolutional layer\n",
        "conv_x = Conv2D(16, (3,3), activation='relu', padding='same', strides=(1,1), kernel_initializer='he_normal')(inputs)\n",
        "conv_x = BatchNormalization()(conv_x)\n",
        "conv_x = MaxPooling2D((2,2), strides=(2,2))(conv_x)\n",
        "conv_x = Conv2D(16, (3,3), activation='relu', padding='same', strides=(1,1), kernel_initializer='he_normal')(conv_x)\n",
        "\n",
        "\n",
        "conv_x = Conv2D(32, (3,3), activation='relu', padding='same', strides=(1,1), kernel_initializer='he_normal')(conv_x)\n",
        "conv_x = BatchNormalization()(conv_x)\n",
        "conv_x = MaxPooling2D((2,2), strides=(1,1))(conv_x)\n",
        "conv_x = Conv2D(32, (3,3), activation='relu', padding='same', strides=(1,1), kernel_initializer='he_normal')(conv_x)\n",
        "\n",
        "conv_x = Conv2D(64, (3,3), activation='relu', padding='same', strides=(1,1), kernel_initializer='he_normal')(conv_x)\n",
        "conv_x = BatchNormalization()(conv_x)\n",
        "conv_x = MaxPooling2D((2,2), strides=(2,2))(conv_x)\n",
        "conv_x = Conv2D(64, (3,3), activation='relu', padding='same', strides=(1,1), kernel_initializer='he_normal')(conv_x)\n",
        "\n",
        "conv_x = Conv2D(128, (3,3), activation='relu', padding='same', strides=(1,1), kernel_initializer='he_normal')(conv_x)\n",
        "conv_x = BatchNormalization()(conv_x)\n",
        "conv_x = MaxPooling2D((2,2), strides=(2,2))(conv_x)\n",
        "conv_x = Conv2D(128, (3,3), activation='relu', padding='same', strides=(1,1), kernel_initializer='he_normal')(conv_x)\n",
        "\n",
        "conv_x = Conv2D(256, (3,3), activation='relu', padding='same', strides=(1,1), kernel_initializer='he_normal')(conv_x)\n",
        "conv_x = BatchNormalization()(conv_x)\n",
        "conv_x = MaxPooling2D((2,2), strides=(2,2))(conv_x)\n",
        "conv_x = Conv2D(256, (3,3), activation='relu', padding='same', strides=(1,1), kernel_initializer='he_normal')(conv_x)\n",
        "\n",
        "conv_x = Conv2D(512, (3,3), activation='relu', padding='same', strides=(1,1), kernel_initializer='he_normal')(conv_x)\n",
        "conv_x = BatchNormalization()(conv_x)\n",
        "conv_x = MaxPooling2D((2,2), strides=(2,2))(conv_x)\n",
        "conv_x = Conv2D(512, (3,3), activation='relu', padding='same', strides=(1,1), kernel_initializer='he_normal')(conv_x)\n",
        "\n",
        "#flatting\n",
        "flatten = Flatten()(conv_x)\n",
        "conv_x = Dense(16, activation='relu')(flatten)\n",
        "con_x = Dropout(0.3)(conv_x)\n",
        "#adding Dense layer with number of class \n",
        "outputs = Dense(4, activation='softmax')(conv_x)"
      ]
    },
    {
      "cell_type": "code",
      "execution_count": 9,
      "metadata": {
        "id": "tmz0l_yZ4CS9"
      },
      "outputs": [],
      "source": [
        "model = Model(inputs=inputs, outputs=outputs)"
      ]
    },
    {
      "cell_type": "code",
      "execution_count": 10,
      "metadata": {
        "colab": {
          "base_uri": "https://localhost:8080/"
        },
        "id": "10v50j244GQV",
        "outputId": "af8aaffc-e373-452b-ed5d-a85195ba962b"
      },
      "outputs": [
        {
          "output_type": "stream",
          "name": "stdout",
          "text": [
            "Model: \"model\"\n",
            "_________________________________________________________________\n",
            " Layer (type)                Output Shape              Param #   \n",
            "=================================================================\n",
            " input_1 (InputLayer)        [(None, 224, 224, 3)]     0         \n",
            "                                                                 \n",
            " conv2d (Conv2D)             (None, 224, 224, 16)      448       \n",
            "                                                                 \n",
            " batch_normalization (BatchN  (None, 224, 224, 16)     64        \n",
            " ormalization)                                                   \n",
            "                                                                 \n",
            " max_pooling2d (MaxPooling2D  (None, 112, 112, 16)     0         \n",
            " )                                                               \n",
            "                                                                 \n",
            " conv2d_1 (Conv2D)           (None, 112, 112, 16)      2320      \n",
            "                                                                 \n",
            " conv2d_2 (Conv2D)           (None, 112, 112, 32)      4640      \n",
            "                                                                 \n",
            " batch_normalization_1 (Batc  (None, 112, 112, 32)     128       \n",
            " hNormalization)                                                 \n",
            "                                                                 \n",
            " max_pooling2d_1 (MaxPooling  (None, 111, 111, 32)     0         \n",
            " 2D)                                                             \n",
            "                                                                 \n",
            " conv2d_3 (Conv2D)           (None, 111, 111, 32)      9248      \n",
            "                                                                 \n",
            " conv2d_4 (Conv2D)           (None, 111, 111, 64)      18496     \n",
            "                                                                 \n",
            " batch_normalization_2 (Batc  (None, 111, 111, 64)     256       \n",
            " hNormalization)                                                 \n",
            "                                                                 \n",
            " max_pooling2d_2 (MaxPooling  (None, 55, 55, 64)       0         \n",
            " 2D)                                                             \n",
            "                                                                 \n",
            " conv2d_5 (Conv2D)           (None, 55, 55, 64)        36928     \n",
            "                                                                 \n",
            " conv2d_6 (Conv2D)           (None, 55, 55, 128)       73856     \n",
            "                                                                 \n",
            " batch_normalization_3 (Batc  (None, 55, 55, 128)      512       \n",
            " hNormalization)                                                 \n",
            "                                                                 \n",
            " max_pooling2d_3 (MaxPooling  (None, 27, 27, 128)      0         \n",
            " 2D)                                                             \n",
            "                                                                 \n",
            " conv2d_7 (Conv2D)           (None, 27, 27, 128)       147584    \n",
            "                                                                 \n",
            " conv2d_8 (Conv2D)           (None, 27, 27, 256)       295168    \n",
            "                                                                 \n",
            " batch_normalization_4 (Batc  (None, 27, 27, 256)      1024      \n",
            " hNormalization)                                                 \n",
            "                                                                 \n",
            " max_pooling2d_4 (MaxPooling  (None, 13, 13, 256)      0         \n",
            " 2D)                                                             \n",
            "                                                                 \n",
            " conv2d_9 (Conv2D)           (None, 13, 13, 256)       590080    \n",
            "                                                                 \n",
            " conv2d_10 (Conv2D)          (None, 13, 13, 512)       1180160   \n",
            "                                                                 \n",
            " batch_normalization_5 (Batc  (None, 13, 13, 512)      2048      \n",
            " hNormalization)                                                 \n",
            "                                                                 \n",
            " max_pooling2d_5 (MaxPooling  (None, 6, 6, 512)        0         \n",
            " 2D)                                                             \n",
            "                                                                 \n",
            " conv2d_11 (Conv2D)          (None, 6, 6, 512)         2359808   \n",
            "                                                                 \n",
            " flatten (Flatten)           (None, 18432)             0         \n",
            "                                                                 \n",
            " dense (Dense)               (None, 16)                294928    \n",
            "                                                                 \n",
            " dense_1 (Dense)             (None, 4)                 68        \n",
            "                                                                 \n",
            "=================================================================\n",
            "Total params: 5,017,764\n",
            "Trainable params: 5,015,748\n",
            "Non-trainable params: 2,016\n",
            "_________________________________________________________________\n"
          ]
        }
      ],
      "source": [
        "model.summary()"
      ]
    },
    {
      "cell_type": "code",
      "execution_count": 11,
      "metadata": {
        "id": "ZDtf0KTF4gQT"
      },
      "outputs": [],
      "source": [
        "model.compile(optimizer=tf.keras.optimizers.Adam(learning_rate=1e-6), loss=\"categorical_crossentropy\", metrics=['accuracy'])"
      ]
    },
    {
      "cell_type": "code",
      "execution_count": 12,
      "metadata": {
        "id": "vzMUtv7n5aVF"
      },
      "outputs": [],
      "source": [
        "model_file = \"/content/drive/MyDrive/CNN_Models/tumor_classfication_1.h5\"\n",
        "csv_file = \"/content/drive/MyDrive/Model CSV/tumor_classification.csv\""
      ]
    },
    {
      "cell_type": "code",
      "execution_count": 13,
      "metadata": {
        "id": "Q_sCvQqz42Jl"
      },
      "outputs": [],
      "source": [
        "#initialize the callbakcs\n",
        "callbacks = [\n",
        "    ModelCheckpoint(model_file, verbose=1, save_best_only=True),\n",
        "    CSVLogger(csv_file),\n",
        "    ReduceLROnPlateau(monitor='val_accuracy', factor=0.1, patience=5, min_lr=1e-6, verbose=1)\n",
        "]"
      ]
    },
    {
      "cell_type": "code",
      "execution_count": 14,
      "metadata": {
        "id": "aFBRdZoz5YWN"
      },
      "outputs": [],
      "source": [
        "data_path = \"/content/drive/MyDrive/DataSet/brain_cancer/Training\""
      ]
    },
    {
      "cell_type": "code",
      "execution_count": 15,
      "metadata": {
        "colab": {
          "base_uri": "https://localhost:8080/"
        },
        "id": "Lv-qzDGk7vAt",
        "outputId": "42a91419-af40-4bbf-d03f-868faad2e4dd"
      },
      "outputs": [
        {
          "output_type": "stream",
          "name": "stdout",
          "text": [
            "Train:4586 - Test:573 - Valid:573\n"
          ]
        }
      ],
      "source": [
        "#split the dataset\n",
        "x_train, x_valid, x_test = load_data(data_path)\n",
        "print(f\"Train:{len(x_train)} - Test:{len(x_test)} - Valid:{len(x_valid)}\")"
      ]
    },
    {
      "cell_type": "code",
      "execution_count": 16,
      "metadata": {
        "id": "pB8mmzzP756G"
      },
      "outputs": [],
      "source": [
        "#tensor dataset\n",
        "train_df = tf_dataset(x_train)\n",
        "test_df = tf_dataset(x_test)\n",
        "valid_df = tf_dataset(x_valid)"
      ]
    },
    {
      "cell_type": "code",
      "execution_count": 17,
      "metadata": {
        "colab": {
          "base_uri": "https://localhost:8080/"
        },
        "id": "b-OobjVj7-pl",
        "outputId": "ba653f51-002c-4fba-8219-561196130823"
      },
      "outputs": [
        {
          "output_type": "stream",
          "name": "stdout",
          "text": [
            "Epoch 1/50\n",
            "72/72 [==============================] - ETA: 0s - loss: 1.5184 - accuracy: 0.3251\n",
            "Epoch 1: val_loss improved from inf to 1.39548, saving model to /content/drive/MyDrive/CNN_Models/tumor_classfication_1.h5\n",
            "72/72 [==============================] - 49s 515ms/step - loss: 1.5184 - accuracy: 0.3251 - val_loss: 1.3955 - val_accuracy: 0.2269 - lr: 1.0000e-06\n",
            "Epoch 2/50\n",
            "72/72 [==============================] - ETA: 0s - loss: 1.2585 - accuracy: 0.4274\n",
            "Epoch 2: val_loss did not improve from 1.39548\n",
            "72/72 [==============================] - 33s 459ms/step - loss: 1.2585 - accuracy: 0.4274 - val_loss: 1.4002 - val_accuracy: 0.2426 - lr: 1.0000e-06\n",
            "Epoch 3/50\n",
            "72/72 [==============================] - ETA: 0s - loss: 1.1344 - accuracy: 0.5020\n",
            "Epoch 3: val_loss did not improve from 1.39548\n",
            "72/72 [==============================] - 32s 446ms/step - loss: 1.1344 - accuracy: 0.5020 - val_loss: 1.3991 - val_accuracy: 0.2443 - lr: 1.0000e-06\n",
            "Epoch 4/50\n",
            "72/72 [==============================] - ETA: 0s - loss: 1.0330 - accuracy: 0.5665\n",
            "Epoch 4: val_loss improved from 1.39548 to 1.34330, saving model to /content/drive/MyDrive/CNN_Models/tumor_classfication_1.h5\n",
            "72/72 [==============================] - 32s 449ms/step - loss: 1.0330 - accuracy: 0.5665 - val_loss: 1.3433 - val_accuracy: 0.2914 - lr: 1.0000e-06\n",
            "Epoch 5/50\n",
            "72/72 [==============================] - ETA: 0s - loss: 0.9456 - accuracy: 0.6114\n",
            "Epoch 5: val_loss improved from 1.34330 to 1.25436, saving model to /content/drive/MyDrive/CNN_Models/tumor_classfication_1.h5\n",
            "72/72 [==============================] - 33s 449ms/step - loss: 0.9456 - accuracy: 0.6114 - val_loss: 1.2544 - val_accuracy: 0.4433 - lr: 1.0000e-06\n",
            "Epoch 6/50\n",
            "72/72 [==============================] - ETA: 0s - loss: 0.8699 - accuracy: 0.6472\n",
            "Epoch 6: val_loss improved from 1.25436 to 1.13011, saving model to /content/drive/MyDrive/CNN_Models/tumor_classfication_1.h5\n",
            "72/72 [==============================] - 33s 454ms/step - loss: 0.8699 - accuracy: 0.6472 - val_loss: 1.1301 - val_accuracy: 0.5253 - lr: 1.0000e-06\n",
            "Epoch 7/50\n",
            "72/72 [==============================] - ETA: 0s - loss: 0.8040 - accuracy: 0.6819\n",
            "Epoch 7: val_loss improved from 1.13011 to 1.01404, saving model to /content/drive/MyDrive/CNN_Models/tumor_classfication_1.h5\n",
            "72/72 [==============================] - 33s 453ms/step - loss: 0.8040 - accuracy: 0.6819 - val_loss: 1.0140 - val_accuracy: 0.5794 - lr: 1.0000e-06\n",
            "Epoch 8/50\n",
            "72/72 [==============================] - ETA: 0s - loss: 0.7461 - accuracy: 0.7098\n",
            "Epoch 8: val_loss improved from 1.01404 to 0.92099, saving model to /content/drive/MyDrive/CNN_Models/tumor_classfication_1.h5\n",
            "72/72 [==============================] - 34s 465ms/step - loss: 0.7461 - accuracy: 0.7098 - val_loss: 0.9210 - val_accuracy: 0.6300 - lr: 1.0000e-06\n",
            "Epoch 9/50\n",
            "72/72 [==============================] - ETA: 0s - loss: 0.6938 - accuracy: 0.7344\n",
            "Epoch 9: val_loss improved from 0.92099 to 0.85763, saving model to /content/drive/MyDrive/CNN_Models/tumor_classfication_1.h5\n",
            "72/72 [==============================] - 33s 451ms/step - loss: 0.6938 - accuracy: 0.7344 - val_loss: 0.8576 - val_accuracy: 0.6475 - lr: 1.0000e-06\n",
            "Epoch 10/50\n",
            "72/72 [==============================] - ETA: 0s - loss: 0.6472 - accuracy: 0.7584\n",
            "Epoch 10: val_loss improved from 0.85763 to 0.77418, saving model to /content/drive/MyDrive/CNN_Models/tumor_classfication_1.h5\n",
            "72/72 [==============================] - 32s 441ms/step - loss: 0.6472 - accuracy: 0.7584 - val_loss: 0.7742 - val_accuracy: 0.6632 - lr: 1.0000e-06\n",
            "Epoch 11/50\n",
            "72/72 [==============================] - ETA: 0s - loss: 0.6058 - accuracy: 0.7769\n",
            "Epoch 11: val_loss improved from 0.77418 to 0.71985, saving model to /content/drive/MyDrive/CNN_Models/tumor_classfication_1.h5\n",
            "72/72 [==============================] - 33s 456ms/step - loss: 0.6058 - accuracy: 0.7769 - val_loss: 0.7199 - val_accuracy: 0.6911 - lr: 1.0000e-06\n",
            "Epoch 12/50\n",
            "72/72 [==============================] - ETA: 0s - loss: 0.5684 - accuracy: 0.7935\n",
            "Epoch 12: val_loss improved from 0.71985 to 0.69512, saving model to /content/drive/MyDrive/CNN_Models/tumor_classfication_1.h5\n",
            "72/72 [==============================] - 33s 454ms/step - loss: 0.5684 - accuracy: 0.7935 - val_loss: 0.6951 - val_accuracy: 0.7120 - lr: 1.0000e-06\n",
            "Epoch 13/50\n",
            "72/72 [==============================] - ETA: 0s - loss: 0.5344 - accuracy: 0.8081\n",
            "Epoch 13: val_loss improved from 0.69512 to 0.67420, saving model to /content/drive/MyDrive/CNN_Models/tumor_classfication_1.h5\n",
            "72/72 [==============================] - 33s 452ms/step - loss: 0.5344 - accuracy: 0.8081 - val_loss: 0.6742 - val_accuracy: 0.7295 - lr: 1.0000e-06\n",
            "Epoch 14/50\n",
            "72/72 [==============================] - ETA: 0s - loss: 0.5033 - accuracy: 0.8266\n",
            "Epoch 14: val_loss improved from 0.67420 to 0.65699, saving model to /content/drive/MyDrive/CNN_Models/tumor_classfication_1.h5\n",
            "72/72 [==============================] - 34s 463ms/step - loss: 0.5033 - accuracy: 0.8266 - val_loss: 0.6570 - val_accuracy: 0.7365 - lr: 1.0000e-06\n",
            "Epoch 15/50\n",
            "72/72 [==============================] - ETA: 0s - loss: 0.4749 - accuracy: 0.8419\n",
            "Epoch 15: val_loss improved from 0.65699 to 0.64087, saving model to /content/drive/MyDrive/CNN_Models/tumor_classfication_1.h5\n",
            "72/72 [==============================] - 33s 458ms/step - loss: 0.4749 - accuracy: 0.8419 - val_loss: 0.6409 - val_accuracy: 0.7487 - lr: 1.0000e-06\n",
            "Epoch 16/50\n",
            "72/72 [==============================] - ETA: 0s - loss: 0.4489 - accuracy: 0.8526\n",
            "Epoch 16: val_loss improved from 0.64087 to 0.62637, saving model to /content/drive/MyDrive/CNN_Models/tumor_classfication_1.h5\n",
            "72/72 [==============================] - 33s 452ms/step - loss: 0.4489 - accuracy: 0.8526 - val_loss: 0.6264 - val_accuracy: 0.7452 - lr: 1.0000e-06\n",
            "Epoch 17/50\n",
            "72/72 [==============================] - ETA: 0s - loss: 0.4248 - accuracy: 0.8635\n",
            "Epoch 17: val_loss improved from 0.62637 to 0.61288, saving model to /content/drive/MyDrive/CNN_Models/tumor_classfication_1.h5\n",
            "72/72 [==============================] - 33s 453ms/step - loss: 0.4248 - accuracy: 0.8635 - val_loss: 0.6129 - val_accuracy: 0.7522 - lr: 1.0000e-06\n",
            "Epoch 18/50\n",
            "72/72 [==============================] - ETA: 0s - loss: 0.4026 - accuracy: 0.8740\n",
            "Epoch 18: val_loss improved from 0.61288 to 0.60022, saving model to /content/drive/MyDrive/CNN_Models/tumor_classfication_1.h5\n",
            "72/72 [==============================] - 33s 459ms/step - loss: 0.4026 - accuracy: 0.8740 - val_loss: 0.6002 - val_accuracy: 0.7557 - lr: 1.0000e-06\n",
            "Epoch 19/50\n",
            "72/72 [==============================] - ETA: 0s - loss: 0.3819 - accuracy: 0.8853\n",
            "Epoch 19: val_loss improved from 0.60022 to 0.58850, saving model to /content/drive/MyDrive/CNN_Models/tumor_classfication_1.h5\n",
            "72/72 [==============================] - 33s 461ms/step - loss: 0.3819 - accuracy: 0.8853 - val_loss: 0.5885 - val_accuracy: 0.7661 - lr: 1.0000e-06\n",
            "Epoch 20/50\n",
            "72/72 [==============================] - ETA: 0s - loss: 0.3628 - accuracy: 0.8942\n",
            "Epoch 20: val_loss improved from 0.58850 to 0.57813, saving model to /content/drive/MyDrive/CNN_Models/tumor_classfication_1.h5\n",
            "72/72 [==============================] - 33s 451ms/step - loss: 0.3628 - accuracy: 0.8942 - val_loss: 0.5781 - val_accuracy: 0.7696 - lr: 1.0000e-06\n",
            "Epoch 21/50\n",
            "72/72 [==============================] - ETA: 0s - loss: 0.3448 - accuracy: 0.9025\n",
            "Epoch 21: val_loss improved from 0.57813 to 0.56837, saving model to /content/drive/MyDrive/CNN_Models/tumor_classfication_1.h5\n",
            "72/72 [==============================] - 31s 434ms/step - loss: 0.3448 - accuracy: 0.9025 - val_loss: 0.5684 - val_accuracy: 0.7749 - lr: 1.0000e-06\n",
            "Epoch 22/50\n",
            "72/72 [==============================] - ETA: 0s - loss: 0.3281 - accuracy: 0.9099\n",
            "Epoch 22: val_loss improved from 0.56837 to 0.55941, saving model to /content/drive/MyDrive/CNN_Models/tumor_classfication_1.h5\n",
            "72/72 [==============================] - 33s 452ms/step - loss: 0.3281 - accuracy: 0.9099 - val_loss: 0.5594 - val_accuracy: 0.7784 - lr: 1.0000e-06\n",
            "Epoch 23/50\n",
            "72/72 [==============================] - ETA: 0s - loss: 0.3124 - accuracy: 0.9154\n",
            "Epoch 23: val_loss improved from 0.55941 to 0.55072, saving model to /content/drive/MyDrive/CNN_Models/tumor_classfication_1.h5\n",
            "72/72 [==============================] - 31s 434ms/step - loss: 0.3124 - accuracy: 0.9154 - val_loss: 0.5507 - val_accuracy: 0.7801 - lr: 1.0000e-06\n",
            "Epoch 24/50\n",
            "72/72 [==============================] - ETA: 0s - loss: 0.2976 - accuracy: 0.9230\n",
            "Epoch 24: val_loss improved from 0.55072 to 0.54264, saving model to /content/drive/MyDrive/CNN_Models/tumor_classfication_1.h5\n",
            "72/72 [==============================] - 31s 435ms/step - loss: 0.2976 - accuracy: 0.9230 - val_loss: 0.5426 - val_accuracy: 0.7888 - lr: 1.0000e-06\n",
            "Epoch 25/50\n",
            "72/72 [==============================] - ETA: 0s - loss: 0.2839 - accuracy: 0.9278\n",
            "Epoch 25: val_loss improved from 0.54264 to 0.53507, saving model to /content/drive/MyDrive/CNN_Models/tumor_classfication_1.h5\n",
            "72/72 [==============================] - 31s 434ms/step - loss: 0.2839 - accuracy: 0.9278 - val_loss: 0.5351 - val_accuracy: 0.7923 - lr: 1.0000e-06\n",
            "Epoch 26/50\n",
            "72/72 [==============================] - ETA: 0s - loss: 0.2709 - accuracy: 0.9333\n",
            "Epoch 26: val_loss improved from 0.53507 to 0.52756, saving model to /content/drive/MyDrive/CNN_Models/tumor_classfication_1.h5\n",
            "72/72 [==============================] - 33s 459ms/step - loss: 0.2709 - accuracy: 0.9333 - val_loss: 0.5276 - val_accuracy: 0.8028 - lr: 1.0000e-06\n",
            "Epoch 27/50\n",
            "72/72 [==============================] - ETA: 0s - loss: 0.2586 - accuracy: 0.9385\n",
            "Epoch 27: val_loss improved from 0.52756 to 0.52079, saving model to /content/drive/MyDrive/CNN_Models/tumor_classfication_1.h5\n",
            "72/72 [==============================] - 32s 443ms/step - loss: 0.2586 - accuracy: 0.9385 - val_loss: 0.5208 - val_accuracy: 0.8063 - lr: 1.0000e-06\n",
            "Epoch 28/50\n",
            "72/72 [==============================] - ETA: 0s - loss: 0.2469 - accuracy: 0.9435\n",
            "Epoch 28: val_loss improved from 0.52079 to 0.51416, saving model to /content/drive/MyDrive/CNN_Models/tumor_classfication_1.h5\n",
            "72/72 [==============================] - 32s 438ms/step - loss: 0.2469 - accuracy: 0.9435 - val_loss: 0.5142 - val_accuracy: 0.8098 - lr: 1.0000e-06\n",
            "Epoch 29/50\n",
            "72/72 [==============================] - ETA: 0s - loss: 0.2359 - accuracy: 0.9474\n",
            "Epoch 29: val_loss improved from 0.51416 to 0.50817, saving model to /content/drive/MyDrive/CNN_Models/tumor_classfication_1.h5\n",
            "72/72 [==============================] - 33s 459ms/step - loss: 0.2359 - accuracy: 0.9474 - val_loss: 0.5082 - val_accuracy: 0.8098 - lr: 1.0000e-06\n",
            "Epoch 30/50\n",
            "72/72 [==============================] - ETA: 0s - loss: 0.2254 - accuracy: 0.9518\n",
            "Epoch 30: val_loss improved from 0.50817 to 0.50252, saving model to /content/drive/MyDrive/CNN_Models/tumor_classfication_1.h5\n",
            "72/72 [==============================] - 33s 455ms/step - loss: 0.2254 - accuracy: 0.9518 - val_loss: 0.5025 - val_accuracy: 0.8133 - lr: 1.0000e-06\n",
            "Epoch 31/50\n",
            "72/72 [==============================] - ETA: 0s - loss: 0.2154 - accuracy: 0.9555\n",
            "Epoch 31: val_loss improved from 0.50252 to 0.49683, saving model to /content/drive/MyDrive/CNN_Models/tumor_classfication_1.h5\n",
            "72/72 [==============================] - 33s 456ms/step - loss: 0.2154 - accuracy: 0.9555 - val_loss: 0.4968 - val_accuracy: 0.8150 - lr: 1.0000e-06\n",
            "Epoch 32/50\n",
            "72/72 [==============================] - ETA: 0s - loss: 0.2058 - accuracy: 0.9592\n",
            "Epoch 32: val_loss improved from 0.49683 to 0.49144, saving model to /content/drive/MyDrive/CNN_Models/tumor_classfication_1.h5\n",
            "72/72 [==============================] - 34s 469ms/step - loss: 0.2058 - accuracy: 0.9592 - val_loss: 0.4914 - val_accuracy: 0.8202 - lr: 1.0000e-06\n",
            "Epoch 33/50\n",
            "72/72 [==============================] - ETA: 0s - loss: 0.1968 - accuracy: 0.9623\n",
            "Epoch 33: val_loss improved from 0.49144 to 0.48660, saving model to /content/drive/MyDrive/CNN_Models/tumor_classfication_1.h5\n",
            "72/72 [==============================] - 33s 450ms/step - loss: 0.1968 - accuracy: 0.9623 - val_loss: 0.4866 - val_accuracy: 0.8220 - lr: 1.0000e-06\n",
            "Epoch 34/50\n",
            "72/72 [==============================] - ETA: 0s - loss: 0.1882 - accuracy: 0.9649\n",
            "Epoch 34: val_loss improved from 0.48660 to 0.48173, saving model to /content/drive/MyDrive/CNN_Models/tumor_classfication_1.h5\n",
            "72/72 [==============================] - 32s 440ms/step - loss: 0.1882 - accuracy: 0.9649 - val_loss: 0.4817 - val_accuracy: 0.8237 - lr: 1.0000e-06\n",
            "Epoch 35/50\n",
            "72/72 [==============================] - ETA: 0s - loss: 0.1799 - accuracy: 0.9679\n",
            "Epoch 35: val_loss improved from 0.48173 to 0.47724, saving model to /content/drive/MyDrive/CNN_Models/tumor_classfication_1.h5\n",
            "72/72 [==============================] - 32s 446ms/step - loss: 0.1799 - accuracy: 0.9679 - val_loss: 0.4772 - val_accuracy: 0.8255 - lr: 1.0000e-06\n",
            "Epoch 36/50\n",
            "72/72 [==============================] - ETA: 0s - loss: 0.1720 - accuracy: 0.9706\n",
            "Epoch 36: val_loss improved from 0.47724 to 0.47276, saving model to /content/drive/MyDrive/CNN_Models/tumor_classfication_1.h5\n",
            "72/72 [==============================] - 32s 440ms/step - loss: 0.1720 - accuracy: 0.9706 - val_loss: 0.4728 - val_accuracy: 0.8290 - lr: 1.0000e-06\n",
            "Epoch 37/50\n",
            "72/72 [==============================] - ETA: 0s - loss: 0.1645 - accuracy: 0.9734\n",
            "Epoch 37: val_loss improved from 0.47276 to 0.46869, saving model to /content/drive/MyDrive/CNN_Models/tumor_classfication_1.h5\n",
            "72/72 [==============================] - 32s 444ms/step - loss: 0.1645 - accuracy: 0.9734 - val_loss: 0.4687 - val_accuracy: 0.8290 - lr: 1.0000e-06\n",
            "Epoch 38/50\n",
            "72/72 [==============================] - ETA: 0s - loss: 0.1574 - accuracy: 0.9767\n",
            "Epoch 38: val_loss improved from 0.46869 to 0.46473, saving model to /content/drive/MyDrive/CNN_Models/tumor_classfication_1.h5\n",
            "72/72 [==============================] - 32s 439ms/step - loss: 0.1574 - accuracy: 0.9767 - val_loss: 0.4647 - val_accuracy: 0.8307 - lr: 1.0000e-06\n",
            "Epoch 39/50\n",
            "72/72 [==============================] - ETA: 0s - loss: 0.1506 - accuracy: 0.9782\n",
            "Epoch 39: val_loss improved from 0.46473 to 0.46090, saving model to /content/drive/MyDrive/CNN_Models/tumor_classfication_1.h5\n",
            "72/72 [==============================] - 32s 444ms/step - loss: 0.1506 - accuracy: 0.9782 - val_loss: 0.4609 - val_accuracy: 0.8307 - lr: 1.0000e-06\n",
            "Epoch 40/50\n",
            "72/72 [==============================] - ETA: 0s - loss: 0.1441 - accuracy: 0.9797\n",
            "Epoch 40: val_loss improved from 0.46090 to 0.45708, saving model to /content/drive/MyDrive/CNN_Models/tumor_classfication_1.h5\n",
            "72/72 [==============================] - 32s 447ms/step - loss: 0.1441 - accuracy: 0.9797 - val_loss: 0.4571 - val_accuracy: 0.8325 - lr: 1.0000e-06\n",
            "Epoch 41/50\n",
            "72/72 [==============================] - ETA: 0s - loss: 0.1378 - accuracy: 0.9810\n",
            "Epoch 41: val_loss improved from 0.45708 to 0.45364, saving model to /content/drive/MyDrive/CNN_Models/tumor_classfication_1.h5\n",
            "72/72 [==============================] - 32s 445ms/step - loss: 0.1378 - accuracy: 0.9810 - val_loss: 0.4536 - val_accuracy: 0.8377 - lr: 1.0000e-06\n",
            "Epoch 42/50\n",
            "72/72 [==============================] - ETA: 0s - loss: 0.1318 - accuracy: 0.9836\n",
            "Epoch 42: val_loss improved from 0.45364 to 0.45045, saving model to /content/drive/MyDrive/CNN_Models/tumor_classfication_1.h5\n",
            "72/72 [==============================] - 32s 445ms/step - loss: 0.1318 - accuracy: 0.9836 - val_loss: 0.4505 - val_accuracy: 0.8342 - lr: 1.0000e-06\n",
            "Epoch 43/50\n",
            "72/72 [==============================] - ETA: 0s - loss: 0.1262 - accuracy: 0.9847\n",
            "Epoch 43: val_loss improved from 0.45045 to 0.44694, saving model to /content/drive/MyDrive/CNN_Models/tumor_classfication_1.h5\n",
            "72/72 [==============================] - 33s 454ms/step - loss: 0.1262 - accuracy: 0.9847 - val_loss: 0.4469 - val_accuracy: 0.8377 - lr: 1.0000e-06\n",
            "Epoch 44/50\n",
            "72/72 [==============================] - ETA: 0s - loss: 0.1208 - accuracy: 0.9869\n",
            "Epoch 44: val_loss improved from 0.44694 to 0.44349, saving model to /content/drive/MyDrive/CNN_Models/tumor_classfication_1.h5\n",
            "72/72 [==============================] - 32s 444ms/step - loss: 0.1208 - accuracy: 0.9869 - val_loss: 0.4435 - val_accuracy: 0.8377 - lr: 1.0000e-06\n",
            "Epoch 45/50\n",
            "72/72 [==============================] - ETA: 0s - loss: 0.1156 - accuracy: 0.9882\n",
            "Epoch 45: val_loss improved from 0.44349 to 0.44022, saving model to /content/drive/MyDrive/CNN_Models/tumor_classfication_1.h5\n",
            "72/72 [==============================] - 32s 446ms/step - loss: 0.1156 - accuracy: 0.9882 - val_loss: 0.4402 - val_accuracy: 0.8377 - lr: 1.0000e-06\n",
            "Epoch 46/50\n",
            "72/72 [==============================] - ETA: 0s - loss: 0.1106 - accuracy: 0.9889\n",
            "Epoch 46: val_loss improved from 0.44022 to 0.43720, saving model to /content/drive/MyDrive/CNN_Models/tumor_classfication_1.h5\n",
            "72/72 [==============================] - 32s 441ms/step - loss: 0.1106 - accuracy: 0.9889 - val_loss: 0.4372 - val_accuracy: 0.8429 - lr: 1.0000e-06\n",
            "Epoch 47/50\n",
            "72/72 [==============================] - ETA: 0s - loss: 0.1058 - accuracy: 0.9904\n",
            "Epoch 47: val_loss improved from 0.43720 to 0.43394, saving model to /content/drive/MyDrive/CNN_Models/tumor_classfication_1.h5\n",
            "72/72 [==============================] - 32s 442ms/step - loss: 0.1058 - accuracy: 0.9904 - val_loss: 0.4339 - val_accuracy: 0.8429 - lr: 1.0000e-06\n",
            "Epoch 48/50\n",
            "72/72 [==============================] - ETA: 0s - loss: 0.1013 - accuracy: 0.9915\n",
            "Epoch 48: val_loss improved from 0.43394 to 0.43107, saving model to /content/drive/MyDrive/CNN_Models/tumor_classfication_1.h5\n",
            "72/72 [==============================] - 32s 447ms/step - loss: 0.1013 - accuracy: 0.9915 - val_loss: 0.4311 - val_accuracy: 0.8464 - lr: 1.0000e-06\n",
            "Epoch 49/50\n",
            "72/72 [==============================] - ETA: 0s - loss: 0.0970 - accuracy: 0.9919\n",
            "Epoch 49: val_loss improved from 0.43107 to 0.42830, saving model to /content/drive/MyDrive/CNN_Models/tumor_classfication_1.h5\n",
            "72/72 [==============================] - 33s 457ms/step - loss: 0.0970 - accuracy: 0.9919 - val_loss: 0.4283 - val_accuracy: 0.8447 - lr: 1.0000e-06\n",
            "Epoch 50/50\n",
            "72/72 [==============================] - ETA: 0s - loss: 0.0928 - accuracy: 0.9928\n",
            "Epoch 50: val_loss improved from 0.42830 to 0.42555, saving model to /content/drive/MyDrive/CNN_Models/tumor_classfication_1.h5\n",
            "72/72 [==============================] - 32s 440ms/step - loss: 0.0928 - accuracy: 0.9928 - val_loss: 0.4255 - val_accuracy: 0.8464 - lr: 1.0000e-06\n"
          ]
        },
        {
          "output_type": "execute_result",
          "data": {
            "text/plain": [
              "<keras.callbacks.History at 0x7fb5964ff640>"
            ]
          },
          "metadata": {},
          "execution_count": 17
        }
      ],
      "source": [
        "model.fit(\n",
        "    train_df,\n",
        "    validation_data=valid_df,\n",
        "    epochs=50,\n",
        "    batch_size=64,\n",
        "    callbacks=callbacks\n",
        ")"
      ]
    },
    {
      "cell_type": "markdown",
      "source": [
        "#Model Evaluation"
      ],
      "metadata": {
        "id": "rzC0dtXU4hfZ"
      }
    },
    {
      "cell_type": "code",
      "execution_count": 18,
      "metadata": {
        "colab": {
          "base_uri": "https://localhost:8080/"
        },
        "id": "69Juq8B28Ddd",
        "outputId": "10d96d5a-ef46-4a92-e0f5-d237855c14b4"
      },
      "outputs": [
        {
          "output_type": "stream",
          "name": "stdout",
          "text": [
            "9/9 [==============================] - 4s 393ms/step - loss: 0.4298 - accuracy: 0.8394\n"
          ]
        },
        {
          "output_type": "execute_result",
          "data": {
            "text/plain": [
              "[0.42976856231689453, 0.8394415378570557]"
            ]
          },
          "metadata": {},
          "execution_count": 18
        }
      ],
      "source": [
        "model.evaluate(test_df)"
      ]
    },
    {
      "cell_type": "markdown",
      "source": [
        "##Model evaluation with confusion matrix"
      ],
      "metadata": {
        "id": "GfO1icWQ46jq"
      }
    },
    {
      "cell_type": "code",
      "source": [
        "#plot confusion matrix\n",
        "def plt_confusion_matrix(cm, classes, normalize=False, title=\"Confusion Matrix\", cmap=plt.cm.Blues):\n",
        "  plt.imshow(cm, interpolation='nearest', cmap=cmap)\n",
        "  plt.title(title)\n",
        "  plt.colorbar()\n",
        "  tick_mark = np.arange(len(classes))\n",
        "  plt.xticks(tick_mark, classes, rotation=45)\n",
        "  plt.yticks(tick_mark, classes)\n",
        "\n",
        "  if normalize:\n",
        "    cm = cm.astype('float') / cm.sum(axis=1)[:, np.axis]\n",
        "    print(\"normalized confusion matrix\")\n",
        "\n",
        "  else:\n",
        "    print(\"confusion matrix without normalization\")\n",
        "  \n",
        "  thresh = cm.max() / 2\n",
        "  for i, j in itertools.product(range(cm.shape[0]), range(cm.shape[1])):\n",
        "    plt.text(j, i, cm[i, j], horizontalalignment=\"center\", color=\"white\" if cm[i, j] > thresh else \"black\")\n",
        "\n",
        "  plt.tight_layout()\n",
        "  plt.xlabel(\"predicted label\")\n",
        "  plt.ylabel(\"True label\")"
      ],
      "metadata": {
        "id": "xi8Y4Vma4ndZ"
      },
      "execution_count": 19,
      "outputs": []
    },
    {
      "cell_type": "code",
      "source": [
        "#prediction\n",
        "prediction = model.predict(test_df, verbose=0)"
      ],
      "metadata": {
        "id": "ZvSFS2ps4_aB"
      },
      "execution_count": 20,
      "outputs": []
    },
    {
      "cell_type": "code",
      "source": [
        "#scale the predicted value\n",
        "np.around(prediction)"
      ],
      "metadata": {
        "colab": {
          "base_uri": "https://localhost:8080/"
        },
        "id": "tqrvHyUW5DXp",
        "outputId": "a4990a2e-cd97-4787-bc83-3ea3b5fb34b2"
      },
      "execution_count": 21,
      "outputs": [
        {
          "output_type": "execute_result",
          "data": {
            "text/plain": [
              "array([[0., 0., 0., 1.],\n",
              "       [0., 1., 0., 0.],\n",
              "       [0., 0., 0., 1.],\n",
              "       ...,\n",
              "       [0., 0., 0., 1.],\n",
              "       [0., 0., 1., 0.],\n",
              "       [0., 0., 0., 1.]], dtype=float32)"
            ]
          },
          "metadata": {},
          "execution_count": 21
        }
      ]
    },
    {
      "cell_type": "code",
      "source": [
        "#get the max value \n",
        "y_pred_classes = np.argmax(prediction, axis=1)"
      ],
      "metadata": {
        "id": "Mf0O48My5GAR"
      },
      "execution_count": 22,
      "outputs": []
    },
    {
      "cell_type": "code",
      "source": [
        "#function for get labels of test set\n",
        "def get_test_data_class(test_path):\n",
        "  names = []\n",
        "  for i in test_path:\n",
        "    name = i.split(\"/\")[-2]\n",
        "    name_idx = class_names.index(name)\n",
        "    names.append(name_idx)\n",
        "  names = np.array(names, dtype=np.int32)\n",
        "  return names"
      ],
      "metadata": {
        "id": "sTzqba7S5ISp"
      },
      "execution_count": 23,
      "outputs": []
    },
    {
      "cell_type": "code",
      "source": [
        "classes = get_test_data_class(x_test)"
      ],
      "metadata": {
        "id": "1RxhMN-Z5Kmq"
      },
      "execution_count": 24,
      "outputs": []
    },
    {
      "cell_type": "code",
      "source": [
        "#confusion matrix\n",
        "cm = confusion_matrix(y_true=classes, y_pred=y_pred_classes)"
      ],
      "metadata": {
        "id": "QPpbthPn5MXB"
      },
      "execution_count": 25,
      "outputs": []
    },
    {
      "cell_type": "code",
      "source": [
        "plt_confusion_matrix(cm=cm, classes=class_names, title=\"confusion matrix\", )"
      ],
      "metadata": {
        "colab": {
          "base_uri": "https://localhost:8080/",
          "height": 328
        },
        "id": "yoqiqoTV5QYp",
        "outputId": "6da26adf-5621-4a44-8bdd-9ad317923746"
      },
      "execution_count": 26,
      "outputs": [
        {
          "output_type": "stream",
          "name": "stdout",
          "text": [
            "confusion matrix without normalization\n"
          ]
        },
        {
          "output_type": "display_data",
          "data": {
            "text/plain": [
              "<Figure size 432x288 with 2 Axes>"
            ],
            "image/png": "[encoded data removed]"
          },
          "metadata": {
            "needs_background": "light"
          }
        }
      ]
    },
    {
      "cell_type": "code",
      "source": [
        "#save model architecture and weights separetely\n",
        "model_json = model.to_json()\n",
        "with open(\"/content/drive/MyDrive/CNN_Models/model.json\", \"w\") as json_file:\n",
        "    json_file.write(model_json)\n",
        "model.save_weights(\"/content/drive/MyDrive/CNN_Models/tumor_model_83.h5\")"
      ],
      "metadata": {
        "id": "I-a9-ABe5SLB"
      },
      "execution_count": 28,
      "outputs": []
    },
    {
      "cell_type": "code",
      "source": [],
      "metadata": {
        "id": "EpILXoUs6DY8"
      },
      "execution_count": null,
      "outputs": []
    }
  ],
  "metadata": {
    "accelerator": "GPU",
    "colab": {
      "provenance": [],
      "mount_file_id": "19Ds0JypUoNjrzDde_24N0mkCfrv6g3ff",
      "authorship_tag": "ABX9TyNAC2eBJFVPNaBesyZLtYdM",
      "include_colab_link": true
    },
    "gpuClass": "standard",
    "kernelspec": {
      "display_name": "Python 3",
      "name": "python3"
    },
    "language_info": {
      "name": "python"
    }
  },
  "nbformat": 4,
  "nbformat_minor": 0
}